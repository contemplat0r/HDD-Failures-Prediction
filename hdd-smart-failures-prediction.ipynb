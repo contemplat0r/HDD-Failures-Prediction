{
 "cells": [
  {
   "cell_type": "markdown",
   "metadata": {},
   "source": [
    "#### Предсказание отказов жёстких дисков  с использованием S.M.A.R.T данных собраных в течении года в одном из датацентров [BACKBLAZE](https://www.backblaze.com/b2/hard-drive-test-data.html)"
   ]
  },
  {
   "cell_type": "markdown",
   "metadata": {},
   "source": [
    "Формально, наша задача - Panel Data Forecasting. Panel Data - это обобщение временных рядов (Time Series), когда независимых\n",
    "переменных несколько. Либо же наоборот - временные ряда, являються частным случаем Panel Data.\n",
    "Большая часть методов обращения с Panel Data предполагают заранее известным вид взаимосвязи между текущими значениями переменных\n",
    "и предшествующими а так же вид взаимосвязи между самими переменными (например - нет взаимосвязи, линейная взаимосвязь и т.д.).\n",
    "Здесь используется другой подход: мы не предполагаем заранее известным вид взаимосвязи, как раз ёе мы и должны найти или точнее\n",
    "аппроксимировать используя Machine Learning."
   ]
  },
  {
   "cell_type": "markdown",
   "metadata": {},
   "source": [
    "Импортируем необходимые библиотеки"
   ]
  },
  {
   "cell_type": "code",
   "execution_count": 45,
   "metadata": {},
   "outputs": [],
   "source": [
    "from collections import Counter\n",
    "import glob\n",
    "import random\n",
    "import os\n",
    "import time\n",
    "import gc\n",
    "\n",
    "import numpy as np\n",
    "import pandas as pd\n",
    "import matplotlib.pyplot as plt\n",
    "import seaborn as sns\n",
    "\n",
    "import sklearn\n",
    "\n",
    "from sklearn.model_selection import GridSearchCV, learning_curve, validation_curve, KFold\n",
    "from sklearn.pipeline import Pipeline, FeatureUnion\n",
    "from sklearn.externals import joblib\n",
    "from sklearn.preprocessing import OneHotEncoder, MinMaxScaler, StandardScaler\n",
    "from sklearn.model_selection import train_test_split\n",
    "from sklearn.linear_model import LogisticRegression\n",
    "from sklearn.svm import SVC\n",
    "from sklearn.metrics import accuracy_score, auc, roc_auc_score, f1_score, classification_report, confusion_matrix\n",
    "\n",
    "import xgboost as xgb\n",
    "from xgboost import XGBClassifier\n",
    "\n",
    "import lightgbm\n",
    "from lightgbm import LGBMClassifier"
   ]
  },
  {
   "cell_type": "markdown",
   "metadata": {},
   "source": [
    "Производим необходимые настройки, присваемаем значения глобальным переменным, создаём список файлов с данными."
   ]
  },
  {
   "cell_type": "code",
   "execution_count": 2,
   "metadata": {},
   "outputs": [],
   "source": [
    "%matplotlib inline"
   ]
  },
  {
   "cell_type": "code",
   "execution_count": 3,
   "metadata": {},
   "outputs": [],
   "source": [
    "sns.set()"
   ]
  },
  {
   "cell_type": "code",
   "execution_count": 4,
   "metadata": {},
   "outputs": [],
   "source": [
    "DATA_DIR = '../data/unarch/data_Q*_2019/'"
   ]
  },
  {
   "cell_type": "code",
   "execution_count": 5,
   "metadata": {},
   "outputs": [],
   "source": [
    "num_notfeature_columns = 4"
   ]
  },
  {
   "cell_type": "code",
   "execution_count": 6,
   "metadata": {},
   "outputs": [],
   "source": [
    "min_list_of_columns = [\n",
    "    'date',\n",
    "    'serial_number',\n",
    "    'model',\n",
    "    'capacity_bytes',\n",
    "    'failure',\n",
    "    'smart_3_normalized',\n",
    "    'smart_187_normalized',\n",
    "    'smart_193_normalized',\n",
    "    'smart_195_normalized',\n",
    "    'smart_240_normalized',\n",
    "    'smart_241_normalized'\n",
    "]"
   ]
  },
  {
   "cell_type": "code",
   "execution_count": 119,
   "metadata": {},
   "outputs": [],
   "source": [
    "datafiles = sorted(glob.glob(DATA_DIR + '*.csv'))"
   ]
  },
  {
   "cell_type": "code",
   "execution_count": null,
   "metadata": {},
   "outputs": [],
   "source": [
    "Определяем функции необходимые для дальнейшей работы."
   ]
  },
  {
   "cell_type": "code",
   "execution_count": 8,
   "metadata": {},
   "outputs": [],
   "source": [
    "def compute_num_of_nans(datafiles):\n",
    "    df = pd.read_csv(datafiles[0])\n",
    "    total_len = len(df)\n",
    "    num_of_nans = {col_name:len(df.loc[df[col_name].isna()]) for col_name in df.columns.to_list()}\n",
    "    common_col_names_set = set(num_of_nans)\n",
    "    all_col_names_list = df.columns.to_list()\n",
    "    for datafile in datafiles[1:]:\n",
    "        df = pd.read_csv(datafile)\n",
    "        total_len += len(df)\n",
    "        col_names = df.columns.to_list() #[num_n:]\n",
    "        common_col_names_set = common_col_names_set.intersection(set(col_names))\n",
    "        for col_name in col_names:\n",
    "            if col_name in num_of_nans:\n",
    "                num_of_nans[col_name] += len(df.loc[df[col_name].isna()])\n",
    "            else:\n",
    "                num_of_nans[col_name] = len(df.loc[df[col_name].isna()])\n",
    "            if col_name not in all_col_names_list:\n",
    "                col_names_idx = col_names.index(col_name)\n",
    "                precend_col_name = col_names[col_names_idx - 1]\n",
    "                all_col_names_idx = all_col_names_list.index(precend_col_name)\n",
    "                all_col_names_list.insert(all_col_names_idx, col_name)\n",
    "    common_col_names_list = [col_name for col_name in all_col_names_list if col_name in common_col_names_set]            \n",
    "    num_of_nans = {col_name:num_of_nans[col_name] for col_name in common_col_names_set}\n",
    "    gc.collect()\n",
    "    return total_len, num_of_nans, common_col_names_list"
   ]
  },
  {
   "cell_type": "code",
   "execution_count": 9,
   "metadata": {},
   "outputs": [],
   "source": [
    "def drop_dominate_nans_columns(df, drop_column_nan_threshold_ratio=None):\n",
    "    if drop_column_nan_threshold_ratio:\n",
    "        drop_column_nan_threshold = df.shape[0] // drop_column_nan_threshold_ratio\n",
    "    else:\n",
    "        drop_column_nan_threshold = df.shape[0] // 2\n",
    "    return df[\n",
    "        [col for col in df.columns if len(df.loc[df[col].isna()]) < drop_column_nan_threshold]\n",
    "    ]"
   ]
  },
  {
   "cell_type": "code",
   "execution_count": 10,
   "metadata": {},
   "outputs": [],
   "source": [
    "def fill_column_nans(df, column_name):\n",
    "    #calculate number of NaNs in column\n",
    "    na_len = len(df.loc[df[column_name].isna(), column_name])\n",
    "    #create a pandas series containing values and corresponding quantities from not NaNs part of the column\n",
    "    count_notna = df.loc[df[column_name].notna(), column_name].value_counts()\n",
    "    #calculate relative frequencies (probabilities) of each value\n",
    "    frequencies = count_notna / count_notna.sum()\n",
    "    #make array that contain fill values with the same relative frequencies as in 'not NaN' column part\n",
    "    fill_values = np.array(\n",
    "        [np.random.choice(frequencies.index, p=frequencies.values) for _ in range(na_len)]\n",
    "    )\n",
    "    #fill NaNs\n",
    "    df.loc[df[column_name].isna(), column_name] = fill_values\n",
    "    return df"
   ]
  },
  {
   "cell_type": "code",
   "execution_count": 11,
   "metadata": {},
   "outputs": [],
   "source": [
    "def fill_nans(df, column_names):\n",
    "    for column_name in column_names:\n",
    "        fill_column_nans(df, column_name)\n",
    "    return df"
   ]
  },
  {
   "cell_type": "code",
   "execution_count": 12,
   "metadata": {},
   "outputs": [],
   "source": [
    "def fill_nans(df):\n",
    "    columns_with_nans = df.columns.to_list()[num_notfeature_columns:]\n",
    "    fill_values = {col_name: np.round(df[col_name].astype(np.float64).mean()) for col_name in columns_with_nans}\n",
    "    return df.fillna(value=fill_values)"
   ]
  },
  {
   "cell_type": "code",
   "execution_count": 13,
   "metadata": {},
   "outputs": [],
   "source": [
    "def reduce_mem_usage(df):\n",
    "    \"\"\" \n",
    "    iterate through all the columns of a dataframe and \n",
    "    modify the data type to reduce memory usage.        \n",
    "    \"\"\"\n",
    "    start_mem = df.memory_usage().sum() / 1024**2\n",
    "    #print(('Memory usage of dataframe is {:.2f}MB').format(start_mem))\n",
    "    \n",
    "    for col in df.columns:\n",
    "        col_type = df[col].dtype\n",
    "        \n",
    "        if col_type != object:\n",
    "            c_min = df[col].min()\n",
    "            c_max = df[col].max()\n",
    "            if str(col_type)[:3] == 'int':\n",
    "                if c_min > np.iinfo(np.int8).min and c_max < np.iinfo(np.int8).max:\n",
    "                    df[col] = df[col].astype(np.int8)\n",
    "                elif c_min > np.iinfo(np.int16).min and c_max < np.iinfo(np.int16).max:\n",
    "                    df[col] = df[col].astype(np.int16)\n",
    "                elif c_min > np.iinfo(np.int32).min and c_max < np.iinfo(np.int32).max:\n",
    "                    df[col] = df[col].astype(np.int32)\n",
    "                elif c_min > np.iinfo(np.int64).min and c_max < np.iinfo(np.int64).max:\n",
    "                    df[col] = df[col].astype(np.int64)  \n",
    "            else:\n",
    "                if c_min > np.finfo(np.float16).min and c_max < np.finfo(np.float16).max:\n",
    "                    df[col] = df[col].astype(np.float16)\n",
    "                elif c_min > np.finfo(np.float32).min and c_max < np.finfo(np.float32).max:\n",
    "                    df[col] = df[col].astype(np.float32)\n",
    "                else:\n",
    "                    df[col] = df[col].astype(np.float64)\n",
    "        else:\n",
    "            df[col] = df[col].astype('category')\n",
    "    end_mem = df.memory_usage().sum() / 1024**2\n",
    "    #print(('Memory usage after optimization is: {:.2f} MB').format(end_mem))\n",
    "    #print('Decreased by {:.1f}%'.format(100 * (start_mem - end_mem) / start_mem))\n",
    "    \n",
    "    return df"
   ]
  },
  {
   "cell_type": "code",
   "execution_count": 14,
   "metadata": {},
   "outputs": [],
   "source": [
    "def create_data_df(datafiles, total_len, num_of_nans, common_col_names_list, drop_column_nan_threshold_ratio=None):\n",
    "    \n",
    "    if drop_column_nan_threshold_ratio:\n",
    "        drop_column_nan_threshold = total_len // drop_column_nan_threshold_ratio\n",
    "    else:\n",
    "        drop_column_nan_threshold = total_len // 2\n",
    "    \n",
    "    not_dominate_nan_columns = [\n",
    "        col_name for col_name, col_num_of_nans in num_of_nans.items() if col_num_of_nans < drop_column_nan_threshold\n",
    "    ]\n",
    "    \n",
    "    not_dominate_nan_columns = [col_name for col_name in common_col_names_list if col_name in not_dominate_nan_columns]\n",
    "    \n",
    "    data_df = reduce_mem_usage(pd.read_csv(datafiles[0], usecols=not_dominate_nan_columns))\n",
    "    \n",
    "    for datafile in datafiles[1:]:\n",
    "        df = pd.read_csv(datafile, usecols=not_dominate_nan_columns)\n",
    "        data_df = pd.concat([data_df, reduce_mem_usage(df)])\n",
    "    not_dominate_nan_columns[3] = 'failure'\n",
    "    not_dominate_nan_columns[4] = 'capacity_bytes'\n",
    "    \n",
    "    data_df = data_df[not_dominate_nan_columns]\n",
    "    gc.collect()\n",
    "    return data_df.reset_index().drop(['index'], axis=1)"
   ]
  },
  {
   "cell_type": "code",
   "execution_count": 15,
   "metadata": {},
   "outputs": [],
   "source": [
    "def scale_and_one_hot_encoding(df, scaler):\n",
    "    features_columns = df.columns.to_list()[num_notfeature_columns:]\n",
    "    \n",
    "    scaled_features = pd.DataFrame(\n",
    "        scaler.fit_transform(df[features_columns]), columns=features_columns, index=df.index, dtype=np.float16\n",
    "    )\n",
    "    \n",
    "    return pd.concat(\n",
    "        [df[df.columns.to_list()[:num_notfeature_columns]], scaled_features], axis=1\n",
    "    ).reset_index().drop(['index', 'model', 'date', 'serial_number'], axis=1)"
   ]
  },
  {
   "cell_type": "code",
   "execution_count": 16,
   "metadata": {},
   "outputs": [],
   "source": [
    "def get_precedings_num(begin, end):\n",
    "    return random.randint(begin, end)"
   ]
  },
  {
   "cell_type": "code",
   "execution_count": 17,
   "metadata": {},
   "outputs": [],
   "source": [
    "def select_failure_events_with_preceding(df, preceding_min_subset_len=10, preceding_max_subset_len=40, preceding_len_random=True):\n",
    "    preceding_subset_len = preceding_min_subset_len\n",
    "    if preceding_len_random:\n",
    "        preceding_subset_len = random.randint(preceding_min_subset_len, preceding_max_subset_len)\n",
    "    selected_df = pd.DataFrame()\n",
    "    failure_events = df[df['failure'] == 1]\n",
    "    failure_indexes = failure_events.index.to_list()\n",
    "    for idx in failure_indexes:\n",
    "        preceding = df.loc[(idx - preceding_subset_len):(idx - 1)]\n",
    "        preceding_indexes = preceding.index.to_list()\n",
    "        intersect = set(failure_indexes).intersection(set(preceding_indexes))\n",
    "        if intersect:\n",
    "            selected_df = pd.concat([selected_df, df.loc[(max(intersect) + 1):idx]])\n",
    "        else:\n",
    "            selected_df = pd.concat([selected_df, df.loc[(idx - preceding_subset_len):idx]])\n",
    "    return selected_df.reset_index().drop(['index'], axis=1)"
   ]
  },
  {
   "cell_type": "code",
   "execution_count": 415,
   "metadata": {},
   "outputs": [],
   "source": [
    "def divide_features_and_target(df):\n",
    "    #return df[df.columns.to_list()[num_notfeature_columns:]], df['failure']\n",
    "    return df[df.columns.to_list()[1:]], df['failure']"
   ]
  },
  {
   "cell_type": "code",
   "execution_count": 19,
   "metadata": {},
   "outputs": [],
   "source": [
    "def match_exactly(y_test, y_pred):\n",
    "    false_negatives = 0\n",
    "    false_positives = 0\n",
    "    true_positives = 0\n",
    "    true_negatives = 0\n",
    "    for y_t, y_p in zip(y_test, y_pred):\n",
    "        if y_t == 1 and y_p == 0:\n",
    "            false_negatives += 1\n",
    "        elif y_t == 0 and y_p == 1:\n",
    "            false_positives += 1\n",
    "        elif y_t == 1 and y_p == 1:\n",
    "            true_positives += 1\n",
    "        elif y_t == 0 and y_p == 0:\n",
    "            true_negatives += 1\n",
    "    print(\n",
    "        \"false_negatives: {}, false_positives: {}, true_negatives: {}, true_positives: {}\".format(\n",
    "            false_negatives, false_positives, true_negatives, true_positives)\n",
    "    )"
   ]
  },
  {
   "cell_type": "markdown",
   "metadata": {},
   "source": [
    "Вычисляем количество NaNs в каждом столбце за весь год. Так же (на всякий случай) находим имена столбцов которые встречаються\n",
    "во всех файлах с данными. И вычисляем количество строк в общем датафрейме которые будет создан при обьединении данных содержашихся\n",
    "во всех файлах с данными."
   ]
  },
  {
   "cell_type": "code",
   "execution_count": 120,
   "metadata": {},
   "outputs": [
    {
     "name": "stdout",
     "output_type": "stream",
     "text": [
      "time_elapsed: 34.6376409649849 min \n"
     ]
    }
   ],
   "source": [
    "start_time = time.time()\n",
    "data_df_total_len, num_of_nans, common_col_names_list = compute_num_of_nans(datafiles)\n",
    "print(\"time_elapsed: {} min \".format((time.time() - start_time) / 60))"
   ]
  },
  {
   "cell_type": "markdown",
   "metadata": {},
   "source": [
    "Создаём объединённый датафрейм отбрасывая столбцы в которых NaN-ов больше некоторого порога - по умолчанию больше половины \n",
    "количества строк в объединённом датафрейме. Так же производим оптимизацию памяти занимаемой объединённым датафреймом."
   ]
  },
  {
   "cell_type": "code",
   "execution_count": 121,
   "metadata": {},
   "outputs": [
    {
     "name": "stdout",
     "output_type": "stream",
     "text": [
      "time_elapsed: 80.05467269420623 min \n"
     ]
    }
   ],
   "source": [
    "start_time = time.time()\n",
    "data_df = create_data_df(datafiles, data_df_total_len, num_of_nans, common_col_names_list)\n",
    "print(\"time_elapsed: {} min \".format((time.time() - start_time) / 60))"
   ]
  },
  {
   "cell_type": "markdown",
   "metadata": {},
   "source": [
    "Сохраняем объединённый датафрейм, что бы в дальнейшем не создавать его каждый раз заново."
   ]
  },
  {
   "cell_type": "code",
   "execution_count": 122,
   "metadata": {},
   "outputs": [],
   "source": [
    "data_df.to_hdf('data_df.hdf5', key='df', mode='w')"
   ]
  },
  {
   "cell_type": "markdown",
   "metadata": {},
   "source": [
    "Заполняем NaN-ы в неотброшенных столбцах - т.е. таких в которых NaN-ов меньше половины длинны столбца. Лучший подход здесь - \n",
    "заполение NaN-ов значениями из not NaNs части столбца пропорционально частоте (вероятности) каждого значения. Но это очень медленно , к тому же большая часть столбцов содержит весьма значительное количество уникальных значений, что обессмысливает данный подход.\n",
    "Поэтому NaN-ы заполняються средним арифметическим not NaN значений в столбце."
   ]
  },
  {
   "cell_type": "code",
   "execution_count": 125,
   "metadata": {},
   "outputs": [
    {
     "name": "stdout",
     "output_type": "stream",
     "text": [
      "time_elapsed: 0.6688740770022075 min \n"
     ]
    }
   ],
   "source": [
    "start_time = time.time()\n",
    "ordered_not_nans_data_df = fill_nans(data_df)\n",
    "print(\"time_elapsed: {} min \".format((time.time() - start_time) / 60))"
   ]
  },
  {
   "cell_type": "code",
   "execution_count": 126,
   "metadata": {},
   "outputs": [
    {
     "data": {
      "text/plain": [
       "1451"
      ]
     },
     "execution_count": 126,
     "metadata": {},
     "output_type": "execute_result"
    }
   ],
   "source": [
    "gc.collect()"
   ]
  },
  {
   "cell_type": "code",
   "execution_count": null,
   "metadata": {},
   "outputs": [],
   "source": [
    "standard_scaler = StandardScaler()\n",
    "min_max_scaler = MinMaxScaler()"
   ]
  },
  {
   "cell_type": "markdown",
   "metadata": {},
   "source": [
    "Масштабирование данных должно улучшать предсказательную силу ML модели. Так же есть предположение, что частота отказов дисков может  существенно зависить от модели диска. Для того что бы ML модель учла модель диска необходимо использовать one hot encoding. Но строк в объединённом датафрейме 40737546 уникальных значений модели диска 55, при использовании one hot encoding в объединённый датафрейм добавится 55 столбца каждый длинной 40737546, что катастрофически увеличит объём памяти занимаемой датафреймом, было принято решение просто не учитывать модель диска при построении ML модели. В дальнейшем имело бы смысл произвести исследование влияния модел диска на аварийность \"вручную\" используя аппарат математической статистики.\n",
    "Масштабирование в этой версии решения задачи так же не производится, для того что бы посмотреть на предсказательную силу ML модели в наихудшем случае."
   ]
  },
  {
   "cell_type": "code",
   "execution_count": null,
   "metadata": {},
   "outputs": [],
   "source": [
    "start_time = time.time()\n",
    "data_df = scale_and_one_hot_encoding(data_df, min_max_scaler)\n",
    "print(\"time_elapsed: {} min \".format((time.time() - start_time) / 60))"
   ]
  },
  {
   "cell_type": "code",
   "execution_count": null,
   "metadata": {},
   "outputs": [],
   "source": [
    "gc.collect()"
   ]
  },
  {
   "cell_type": "code",
   "execution_count": null,
   "metadata": {},
   "outputs": [],
   "source": [
    "data_df.to_hdf('optimized_data_df.hdf5', key='df', mode='w')"
   ]
  },
  {
   "cell_type": "code",
   "execution_count": 20,
   "metadata": {},
   "outputs": [],
   "source": [
    "data_df = pd.read_hdf('optimized_data_df.hdf5')"
   ]
  },
  {
   "cell_type": "code",
   "execution_count": 285,
   "metadata": {},
   "outputs": [
    {
     "data": {
      "text/plain": [
       "2263"
      ]
     },
     "execution_count": 285,
     "metadata": {},
     "output_type": "execute_result"
    }
   ],
   "source": [
    "len(data_df[data_df['failure'] == 1])"
   ]
  },
  {
   "cell_type": "markdown",
   "metadata": {},
   "source": [
    "В некотором смысле решающий момент - выборка из объединённого датафрейма данных которые будут переданы ML модели для обучения. Весь датафрейм передавать нет смысла - наличествует очень большой перекос (bias) в данных: 2263 строк в которых значение столбца failure равно 1 (из 40737546 строк). Сколько нибудь сложных методов отбора не используеться, для доказательства работоспособности методики это излишне. Выбираем саму \"аварийную\" строку и несколько предшествующих (в данном случае 3)."
   ]
  },
  {
   "cell_type": "code",
   "execution_count": 416,
   "metadata": {},
   "outputs": [
    {
     "ename": "KeyboardInterrupt",
     "evalue": "",
     "output_type": "error",
     "traceback": [
      "\u001b[0;31m---------------------------------------------------------------------------\u001b[0m",
      "\u001b[0;31mTypeError\u001b[0m                                 Traceback (most recent call last)",
      "\u001b[0;32m~/miniconda3/envs/And-Magic-3.7/lib/python3.7/site-packages/numpy/core/numerictypes.py\u001b[0m in \u001b[0;36missubclass_\u001b[0;34m(arg1, arg2)\u001b[0m\n\u001b[1;32m    327\u001b[0m     \u001b[0;32mtry\u001b[0m\u001b[0;34m:\u001b[0m\u001b[0;34m\u001b[0m\u001b[0;34m\u001b[0m\u001b[0m\n\u001b[0;32m--> 328\u001b[0;31m         \u001b[0;32mreturn\u001b[0m \u001b[0missubclass\u001b[0m\u001b[0;34m(\u001b[0m\u001b[0marg1\u001b[0m\u001b[0;34m,\u001b[0m \u001b[0marg2\u001b[0m\u001b[0;34m)\u001b[0m\u001b[0;34m\u001b[0m\u001b[0;34m\u001b[0m\u001b[0m\n\u001b[0m\u001b[1;32m    329\u001b[0m     \u001b[0;32mexcept\u001b[0m \u001b[0mTypeError\u001b[0m\u001b[0;34m:\u001b[0m\u001b[0;34m\u001b[0m\u001b[0;34m\u001b[0m\u001b[0m\n",
      "\u001b[0;31mTypeError\u001b[0m: issubclass() arg 1 must be a class",
      "\nDuring handling of the above exception, another exception occurred:\n",
      "\u001b[0;31mKeyboardInterrupt\u001b[0m                         Traceback (most recent call last)",
      "\u001b[0;32m<ipython-input-416-0e65e98c6fd3>\u001b[0m in \u001b[0;36m<module>\u001b[0;34m\u001b[0m\n\u001b[1;32m      3\u001b[0m     \u001b[0mordered_not_nans_data_df\u001b[0m\u001b[0;34m,\u001b[0m\u001b[0;34m\u001b[0m\u001b[0;34m\u001b[0m\u001b[0m\n\u001b[1;32m      4\u001b[0m     \u001b[0mpreceding_min_subset_len\u001b[0m\u001b[0;34m=\u001b[0m\u001b[0;36m2\u001b[0m\u001b[0;34m,\u001b[0m\u001b[0;34m\u001b[0m\u001b[0;34m\u001b[0m\u001b[0m\n\u001b[0;32m----> 5\u001b[0;31m     \u001b[0mpreceding_len_random\u001b[0m\u001b[0;34m=\u001b[0m\u001b[0;32mFalse\u001b[0m\u001b[0;34m\u001b[0m\u001b[0;34m\u001b[0m\u001b[0m\n\u001b[0m\u001b[1;32m      6\u001b[0m )\n\u001b[1;32m      7\u001b[0m \u001b[0mprint\u001b[0m\u001b[0;34m(\u001b[0m\u001b[0;34m\"time_elapsed: {} min \"\u001b[0m\u001b[0;34m.\u001b[0m\u001b[0mformat\u001b[0m\u001b[0;34m(\u001b[0m\u001b[0;34m(\u001b[0m\u001b[0mtime\u001b[0m\u001b[0;34m.\u001b[0m\u001b[0mtime\u001b[0m\u001b[0;34m(\u001b[0m\u001b[0;34m)\u001b[0m \u001b[0;34m-\u001b[0m \u001b[0mstart_time\u001b[0m\u001b[0;34m)\u001b[0m \u001b[0;34m/\u001b[0m \u001b[0;36m60\u001b[0m\u001b[0;34m)\u001b[0m\u001b[0;34m)\u001b[0m\u001b[0;34m\u001b[0m\u001b[0;34m\u001b[0m\u001b[0m\n",
      "\u001b[0;32m<ipython-input-17-dfaefa5d114b>\u001b[0m in \u001b[0;36mselect_failure_events_with_preceding\u001b[0;34m(df, preceding_min_subset_len, preceding_max_subset_len, preceding_len_random)\u001b[0m\n\u001b[1;32m     14\u001b[0m             \u001b[0mselected_df\u001b[0m \u001b[0;34m=\u001b[0m \u001b[0mpd\u001b[0m\u001b[0;34m.\u001b[0m\u001b[0mconcat\u001b[0m\u001b[0;34m(\u001b[0m\u001b[0;34m[\u001b[0m\u001b[0mselected_df\u001b[0m\u001b[0;34m,\u001b[0m \u001b[0mdf\u001b[0m\u001b[0;34m.\u001b[0m\u001b[0mloc\u001b[0m\u001b[0;34m[\u001b[0m\u001b[0;34m(\u001b[0m\u001b[0mmax\u001b[0m\u001b[0;34m(\u001b[0m\u001b[0mintersect\u001b[0m\u001b[0;34m)\u001b[0m \u001b[0;34m+\u001b[0m \u001b[0;36m1\u001b[0m\u001b[0;34m)\u001b[0m\u001b[0;34m:\u001b[0m\u001b[0midx\u001b[0m\u001b[0;34m]\u001b[0m\u001b[0;34m]\u001b[0m\u001b[0;34m)\u001b[0m\u001b[0;34m\u001b[0m\u001b[0;34m\u001b[0m\u001b[0m\n\u001b[1;32m     15\u001b[0m         \u001b[0;32melse\u001b[0m\u001b[0;34m:\u001b[0m\u001b[0;34m\u001b[0m\u001b[0;34m\u001b[0m\u001b[0m\n\u001b[0;32m---> 16\u001b[0;31m             \u001b[0mselected_df\u001b[0m \u001b[0;34m=\u001b[0m \u001b[0mpd\u001b[0m\u001b[0;34m.\u001b[0m\u001b[0mconcat\u001b[0m\u001b[0;34m(\u001b[0m\u001b[0;34m[\u001b[0m\u001b[0mselected_df\u001b[0m\u001b[0;34m,\u001b[0m \u001b[0mdf\u001b[0m\u001b[0;34m.\u001b[0m\u001b[0mloc\u001b[0m\u001b[0;34m[\u001b[0m\u001b[0;34m(\u001b[0m\u001b[0midx\u001b[0m \u001b[0;34m-\u001b[0m \u001b[0mpreceding_subset_len\u001b[0m\u001b[0;34m)\u001b[0m\u001b[0;34m:\u001b[0m\u001b[0midx\u001b[0m\u001b[0;34m]\u001b[0m\u001b[0;34m]\u001b[0m\u001b[0;34m)\u001b[0m\u001b[0;34m\u001b[0m\u001b[0;34m\u001b[0m\u001b[0m\n\u001b[0m\u001b[1;32m     17\u001b[0m     \u001b[0;32mreturn\u001b[0m \u001b[0mselected_df\u001b[0m\u001b[0;34m.\u001b[0m\u001b[0mreset_index\u001b[0m\u001b[0;34m(\u001b[0m\u001b[0;34m)\u001b[0m\u001b[0;34m.\u001b[0m\u001b[0mdrop\u001b[0m\u001b[0;34m(\u001b[0m\u001b[0;34m[\u001b[0m\u001b[0;34m'index'\u001b[0m\u001b[0;34m]\u001b[0m\u001b[0;34m,\u001b[0m \u001b[0maxis\u001b[0m\u001b[0;34m=\u001b[0m\u001b[0;36m1\u001b[0m\u001b[0;34m)\u001b[0m\u001b[0;34m\u001b[0m\u001b[0;34m\u001b[0m\u001b[0m\n",
      "\u001b[0;32m~/miniconda3/envs/And-Magic-3.7/lib/python3.7/site-packages/pandas/core/reshape/concat.py\u001b[0m in \u001b[0;36mconcat\u001b[0;34m(objs, axis, join, join_axes, ignore_index, keys, levels, names, verify_integrity, sort, copy)\u001b[0m\n\u001b[1;32m    256\u001b[0m     )\n\u001b[1;32m    257\u001b[0m \u001b[0;34m\u001b[0m\u001b[0m\n\u001b[0;32m--> 258\u001b[0;31m     \u001b[0;32mreturn\u001b[0m \u001b[0mop\u001b[0m\u001b[0;34m.\u001b[0m\u001b[0mget_result\u001b[0m\u001b[0;34m(\u001b[0m\u001b[0;34m)\u001b[0m\u001b[0;34m\u001b[0m\u001b[0;34m\u001b[0m\u001b[0m\n\u001b[0m\u001b[1;32m    259\u001b[0m \u001b[0;34m\u001b[0m\u001b[0m\n\u001b[1;32m    260\u001b[0m \u001b[0;34m\u001b[0m\u001b[0m\n",
      "\u001b[0;32m~/miniconda3/envs/And-Magic-3.7/lib/python3.7/site-packages/pandas/core/reshape/concat.py\u001b[0m in \u001b[0;36mget_result\u001b[0;34m(self)\u001b[0m\n\u001b[1;32m    471\u001b[0m \u001b[0;34m\u001b[0m\u001b[0m\n\u001b[1;32m    472\u001b[0m             new_data = concatenate_block_managers(\n\u001b[0;32m--> 473\u001b[0;31m                 \u001b[0mmgrs_indexers\u001b[0m\u001b[0;34m,\u001b[0m \u001b[0mself\u001b[0m\u001b[0;34m.\u001b[0m\u001b[0mnew_axes\u001b[0m\u001b[0;34m,\u001b[0m \u001b[0mconcat_axis\u001b[0m\u001b[0;34m=\u001b[0m\u001b[0mself\u001b[0m\u001b[0;34m.\u001b[0m\u001b[0maxis\u001b[0m\u001b[0;34m,\u001b[0m \u001b[0mcopy\u001b[0m\u001b[0;34m=\u001b[0m\u001b[0mself\u001b[0m\u001b[0;34m.\u001b[0m\u001b[0mcopy\u001b[0m\u001b[0;34m\u001b[0m\u001b[0;34m\u001b[0m\u001b[0m\n\u001b[0m\u001b[1;32m    474\u001b[0m             )\n\u001b[1;32m    475\u001b[0m             \u001b[0;32mif\u001b[0m \u001b[0;32mnot\u001b[0m \u001b[0mself\u001b[0m\u001b[0;34m.\u001b[0m\u001b[0mcopy\u001b[0m\u001b[0;34m:\u001b[0m\u001b[0;34m\u001b[0m\u001b[0;34m\u001b[0m\u001b[0m\n",
      "\u001b[0;32m~/miniconda3/envs/And-Magic-3.7/lib/python3.7/site-packages/pandas/core/internals/managers.py\u001b[0m in \u001b[0;36mconcatenate_block_managers\u001b[0;34m(mgrs_indexers, axes, concat_axis, copy)\u001b[0m\n\u001b[1;32m   2052\u001b[0m         \u001b[0;32melse\u001b[0m\u001b[0;34m:\u001b[0m\u001b[0;34m\u001b[0m\u001b[0;34m\u001b[0m\u001b[0m\n\u001b[1;32m   2053\u001b[0m             b = make_block(\n\u001b[0;32m-> 2054\u001b[0;31m                 \u001b[0mconcatenate_join_units\u001b[0m\u001b[0;34m(\u001b[0m\u001b[0mjoin_units\u001b[0m\u001b[0;34m,\u001b[0m \u001b[0mconcat_axis\u001b[0m\u001b[0;34m,\u001b[0m \u001b[0mcopy\u001b[0m\u001b[0;34m=\u001b[0m\u001b[0mcopy\u001b[0m\u001b[0;34m)\u001b[0m\u001b[0;34m,\u001b[0m\u001b[0;34m\u001b[0m\u001b[0;34m\u001b[0m\u001b[0m\n\u001b[0m\u001b[1;32m   2055\u001b[0m                 \u001b[0mplacement\u001b[0m\u001b[0;34m=\u001b[0m\u001b[0mplacement\u001b[0m\u001b[0;34m,\u001b[0m\u001b[0;34m\u001b[0m\u001b[0;34m\u001b[0m\u001b[0m\n\u001b[1;32m   2056\u001b[0m             )\n",
      "\u001b[0;32m~/miniconda3/envs/And-Magic-3.7/lib/python3.7/site-packages/pandas/core/internals/concat.py\u001b[0m in \u001b[0;36mconcatenate_join_units\u001b[0;34m(join_units, concat_axis, copy)\u001b[0m\n\u001b[1;32m    251\u001b[0m     to_concat = [\n\u001b[1;32m    252\u001b[0m         \u001b[0mju\u001b[0m\u001b[0;34m.\u001b[0m\u001b[0mget_reindexed_values\u001b[0m\u001b[0;34m(\u001b[0m\u001b[0mempty_dtype\u001b[0m\u001b[0;34m=\u001b[0m\u001b[0mempty_dtype\u001b[0m\u001b[0;34m,\u001b[0m \u001b[0mupcasted_na\u001b[0m\u001b[0;34m=\u001b[0m\u001b[0mupcasted_na\u001b[0m\u001b[0;34m)\u001b[0m\u001b[0;34m\u001b[0m\u001b[0;34m\u001b[0m\u001b[0m\n\u001b[0;32m--> 253\u001b[0;31m         \u001b[0;32mfor\u001b[0m \u001b[0mju\u001b[0m \u001b[0;32min\u001b[0m \u001b[0mjoin_units\u001b[0m\u001b[0;34m\u001b[0m\u001b[0;34m\u001b[0m\u001b[0m\n\u001b[0m\u001b[1;32m    254\u001b[0m     ]\n\u001b[1;32m    255\u001b[0m \u001b[0;34m\u001b[0m\u001b[0m\n",
      "\u001b[0;32m~/miniconda3/envs/And-Magic-3.7/lib/python3.7/site-packages/pandas/core/internals/concat.py\u001b[0m in \u001b[0;36m<listcomp>\u001b[0;34m(.0)\u001b[0m\n\u001b[1;32m    251\u001b[0m     to_concat = [\n\u001b[1;32m    252\u001b[0m         \u001b[0mju\u001b[0m\u001b[0;34m.\u001b[0m\u001b[0mget_reindexed_values\u001b[0m\u001b[0;34m(\u001b[0m\u001b[0mempty_dtype\u001b[0m\u001b[0;34m=\u001b[0m\u001b[0mempty_dtype\u001b[0m\u001b[0;34m,\u001b[0m \u001b[0mupcasted_na\u001b[0m\u001b[0;34m=\u001b[0m\u001b[0mupcasted_na\u001b[0m\u001b[0;34m)\u001b[0m\u001b[0;34m\u001b[0m\u001b[0;34m\u001b[0m\u001b[0m\n\u001b[0;32m--> 253\u001b[0;31m         \u001b[0;32mfor\u001b[0m \u001b[0mju\u001b[0m \u001b[0;32min\u001b[0m \u001b[0mjoin_units\u001b[0m\u001b[0;34m\u001b[0m\u001b[0;34m\u001b[0m\u001b[0m\n\u001b[0m\u001b[1;32m    254\u001b[0m     ]\n\u001b[1;32m    255\u001b[0m \u001b[0;34m\u001b[0m\u001b[0m\n",
      "\u001b[0;32m~/miniconda3/envs/And-Magic-3.7/lib/python3.7/site-packages/pandas/core/internals/concat.py\u001b[0m in \u001b[0;36mget_reindexed_values\u001b[0;34m(self, empty_dtype, upcasted_na)\u001b[0m\n\u001b[1;32m    234\u001b[0m         \u001b[0;32melse\u001b[0m\u001b[0;34m:\u001b[0m\u001b[0;34m\u001b[0m\u001b[0;34m\u001b[0m\u001b[0m\n\u001b[1;32m    235\u001b[0m             \u001b[0;32mfor\u001b[0m \u001b[0max\u001b[0m\u001b[0;34m,\u001b[0m \u001b[0mindexer\u001b[0m \u001b[0;32min\u001b[0m \u001b[0mself\u001b[0m\u001b[0;34m.\u001b[0m\u001b[0mindexers\u001b[0m\u001b[0;34m.\u001b[0m\u001b[0mitems\u001b[0m\u001b[0;34m(\u001b[0m\u001b[0;34m)\u001b[0m\u001b[0;34m:\u001b[0m\u001b[0;34m\u001b[0m\u001b[0;34m\u001b[0m\u001b[0m\n\u001b[0;32m--> 236\u001b[0;31m                 \u001b[0mvalues\u001b[0m \u001b[0;34m=\u001b[0m \u001b[0malgos\u001b[0m\u001b[0;34m.\u001b[0m\u001b[0mtake_nd\u001b[0m\u001b[0;34m(\u001b[0m\u001b[0mvalues\u001b[0m\u001b[0;34m,\u001b[0m \u001b[0mindexer\u001b[0m\u001b[0;34m,\u001b[0m \u001b[0maxis\u001b[0m\u001b[0;34m=\u001b[0m\u001b[0max\u001b[0m\u001b[0;34m,\u001b[0m \u001b[0mfill_value\u001b[0m\u001b[0;34m=\u001b[0m\u001b[0mfill_value\u001b[0m\u001b[0;34m)\u001b[0m\u001b[0;34m\u001b[0m\u001b[0;34m\u001b[0m\u001b[0m\n\u001b[0m\u001b[1;32m    237\u001b[0m \u001b[0;34m\u001b[0m\u001b[0m\n\u001b[1;32m    238\u001b[0m         \u001b[0;32mreturn\u001b[0m \u001b[0mvalues\u001b[0m\u001b[0;34m\u001b[0m\u001b[0;34m\u001b[0m\u001b[0m\n",
      "\u001b[0;32m~/miniconda3/envs/And-Magic-3.7/lib/python3.7/site-packages/pandas/core/algorithms.py\u001b[0m in \u001b[0;36mtake_nd\u001b[0;34m(arr, indexer, axis, out, fill_value, mask_info, allow_fill)\u001b[0m\n\u001b[1;32m   1717\u001b[0m \u001b[0;34m\u001b[0m\u001b[0m\n\u001b[1;32m   1718\u001b[0m     func = _get_take_nd_function(\n\u001b[0;32m-> 1719\u001b[0;31m         \u001b[0marr\u001b[0m\u001b[0;34m.\u001b[0m\u001b[0mndim\u001b[0m\u001b[0;34m,\u001b[0m \u001b[0marr\u001b[0m\u001b[0;34m.\u001b[0m\u001b[0mdtype\u001b[0m\u001b[0;34m,\u001b[0m \u001b[0mout\u001b[0m\u001b[0;34m.\u001b[0m\u001b[0mdtype\u001b[0m\u001b[0;34m,\u001b[0m \u001b[0maxis\u001b[0m\u001b[0;34m=\u001b[0m\u001b[0maxis\u001b[0m\u001b[0;34m,\u001b[0m \u001b[0mmask_info\u001b[0m\u001b[0;34m=\u001b[0m\u001b[0mmask_info\u001b[0m\u001b[0;34m\u001b[0m\u001b[0;34m\u001b[0m\u001b[0m\n\u001b[0m\u001b[1;32m   1720\u001b[0m     )\n\u001b[1;32m   1721\u001b[0m     \u001b[0mfunc\u001b[0m\u001b[0;34m(\u001b[0m\u001b[0marr\u001b[0m\u001b[0;34m,\u001b[0m \u001b[0mindexer\u001b[0m\u001b[0;34m,\u001b[0m \u001b[0mout\u001b[0m\u001b[0;34m,\u001b[0m \u001b[0mfill_value\u001b[0m\u001b[0;34m)\u001b[0m\u001b[0;34m\u001b[0m\u001b[0;34m\u001b[0m\u001b[0m\n",
      "\u001b[0;32m~/miniconda3/envs/And-Magic-3.7/lib/python3.7/site-packages/pandas/core/algorithms.py\u001b[0m in \u001b[0;36m_get_take_nd_function\u001b[0;34m(ndim, arr_dtype, out_dtype, axis, mask_info)\u001b[0m\n\u001b[1;32m   1492\u001b[0m             \u001b[0;32mreturn\u001b[0m \u001b[0mfunc\u001b[0m\u001b[0;34m\u001b[0m\u001b[0;34m\u001b[0m\u001b[0m\n\u001b[1;32m   1493\u001b[0m \u001b[0;34m\u001b[0m\u001b[0m\n\u001b[0;32m-> 1494\u001b[0;31m         \u001b[0mtup\u001b[0m \u001b[0;34m=\u001b[0m \u001b[0;34m(\u001b[0m\u001b[0mout_dtype\u001b[0m\u001b[0;34m.\u001b[0m\u001b[0mname\u001b[0m\u001b[0;34m,\u001b[0m \u001b[0mout_dtype\u001b[0m\u001b[0;34m.\u001b[0m\u001b[0mname\u001b[0m\u001b[0;34m)\u001b[0m\u001b[0;34m\u001b[0m\u001b[0;34m\u001b[0m\u001b[0m\n\u001b[0m\u001b[1;32m   1495\u001b[0m         \u001b[0;32mif\u001b[0m \u001b[0mndim\u001b[0m \u001b[0;34m==\u001b[0m \u001b[0;36m1\u001b[0m\u001b[0;34m:\u001b[0m\u001b[0;34m\u001b[0m\u001b[0;34m\u001b[0m\u001b[0m\n\u001b[1;32m   1496\u001b[0m             \u001b[0mfunc\u001b[0m \u001b[0;34m=\u001b[0m \u001b[0m_take_1d_dict\u001b[0m\u001b[0;34m.\u001b[0m\u001b[0mget\u001b[0m\u001b[0;34m(\u001b[0m\u001b[0mtup\u001b[0m\u001b[0;34m,\u001b[0m \u001b[0;32mNone\u001b[0m\u001b[0;34m)\u001b[0m\u001b[0;34m\u001b[0m\u001b[0;34m\u001b[0m\u001b[0m\n",
      "\u001b[0;32m~/miniconda3/envs/And-Magic-3.7/lib/python3.7/site-packages/numpy/core/_dtype.py\u001b[0m in \u001b[0;36m_name_get\u001b[0;34m(dtype)\u001b[0m\n\u001b[1;32m    332\u001b[0m \u001b[0;34m\u001b[0m\u001b[0m\n\u001b[1;32m    333\u001b[0m     \u001b[0;31m# append bit counts to str, unicode, and void\u001b[0m\u001b[0;34m\u001b[0m\u001b[0;34m\u001b[0m\u001b[0;34m\u001b[0m\u001b[0m\n\u001b[0;32m--> 334\u001b[0;31m     \u001b[0;32mif\u001b[0m \u001b[0mnp\u001b[0m\u001b[0;34m.\u001b[0m\u001b[0missubdtype\u001b[0m\u001b[0;34m(\u001b[0m\u001b[0mdtype\u001b[0m\u001b[0;34m,\u001b[0m \u001b[0mnp\u001b[0m\u001b[0;34m.\u001b[0m\u001b[0mflexible\u001b[0m\u001b[0;34m)\u001b[0m \u001b[0;32mand\u001b[0m \u001b[0;32mnot\u001b[0m \u001b[0m_isunsized\u001b[0m\u001b[0;34m(\u001b[0m\u001b[0mdtype\u001b[0m\u001b[0;34m)\u001b[0m\u001b[0;34m:\u001b[0m\u001b[0;34m\u001b[0m\u001b[0;34m\u001b[0m\u001b[0m\n\u001b[0m\u001b[1;32m    335\u001b[0m         \u001b[0mname\u001b[0m \u001b[0;34m+=\u001b[0m \u001b[0;34m\"{}\"\u001b[0m\u001b[0;34m.\u001b[0m\u001b[0mformat\u001b[0m\u001b[0;34m(\u001b[0m\u001b[0mdtype\u001b[0m\u001b[0;34m.\u001b[0m\u001b[0mitemsize\u001b[0m \u001b[0;34m*\u001b[0m \u001b[0;36m8\u001b[0m\u001b[0;34m)\u001b[0m\u001b[0;34m\u001b[0m\u001b[0;34m\u001b[0m\u001b[0m\n\u001b[1;32m    336\u001b[0m \u001b[0;34m\u001b[0m\u001b[0m\n",
      "\u001b[0;32m~/miniconda3/envs/And-Magic-3.7/lib/python3.7/site-packages/numpy/core/numerictypes.py\u001b[0m in \u001b[0;36missubdtype\u001b[0;34m(arg1, arg2)\u001b[0m\n\u001b[1;32m    390\u001b[0m \u001b[0;34m\u001b[0m\u001b[0m\n\u001b[1;32m    391\u001b[0m     \"\"\"\n\u001b[0;32m--> 392\u001b[0;31m     \u001b[0;32mif\u001b[0m \u001b[0;32mnot\u001b[0m \u001b[0missubclass_\u001b[0m\u001b[0;34m(\u001b[0m\u001b[0marg1\u001b[0m\u001b[0;34m,\u001b[0m \u001b[0mgeneric\u001b[0m\u001b[0;34m)\u001b[0m\u001b[0;34m:\u001b[0m\u001b[0;34m\u001b[0m\u001b[0;34m\u001b[0m\u001b[0m\n\u001b[0m\u001b[1;32m    393\u001b[0m         \u001b[0marg1\u001b[0m \u001b[0;34m=\u001b[0m \u001b[0mdtype\u001b[0m\u001b[0;34m(\u001b[0m\u001b[0marg1\u001b[0m\u001b[0;34m)\u001b[0m\u001b[0;34m.\u001b[0m\u001b[0mtype\u001b[0m\u001b[0;34m\u001b[0m\u001b[0;34m\u001b[0m\u001b[0m\n\u001b[1;32m    394\u001b[0m     \u001b[0;32mif\u001b[0m \u001b[0;32mnot\u001b[0m \u001b[0missubclass_\u001b[0m\u001b[0;34m(\u001b[0m\u001b[0marg2\u001b[0m\u001b[0;34m,\u001b[0m \u001b[0mgeneric\u001b[0m\u001b[0;34m)\u001b[0m\u001b[0;34m:\u001b[0m\u001b[0;34m\u001b[0m\u001b[0;34m\u001b[0m\u001b[0m\n",
      "\u001b[0;32m~/miniconda3/envs/And-Magic-3.7/lib/python3.7/site-packages/numpy/core/numerictypes.py\u001b[0m in \u001b[0;36missubclass_\u001b[0;34m(arg1, arg2)\u001b[0m\n\u001b[1;32m    326\u001b[0m     \"\"\"\n\u001b[1;32m    327\u001b[0m     \u001b[0;32mtry\u001b[0m\u001b[0;34m:\u001b[0m\u001b[0;34m\u001b[0m\u001b[0;34m\u001b[0m\u001b[0m\n\u001b[0;32m--> 328\u001b[0;31m         \u001b[0;32mreturn\u001b[0m \u001b[0missubclass\u001b[0m\u001b[0;34m(\u001b[0m\u001b[0marg1\u001b[0m\u001b[0;34m,\u001b[0m \u001b[0marg2\u001b[0m\u001b[0;34m)\u001b[0m\u001b[0;34m\u001b[0m\u001b[0;34m\u001b[0m\u001b[0m\n\u001b[0m\u001b[1;32m    329\u001b[0m     \u001b[0;32mexcept\u001b[0m \u001b[0mTypeError\u001b[0m\u001b[0;34m:\u001b[0m\u001b[0;34m\u001b[0m\u001b[0;34m\u001b[0m\u001b[0m\n\u001b[1;32m    330\u001b[0m         \u001b[0;32mreturn\u001b[0m \u001b[0;32mFalse\u001b[0m\u001b[0;34m\u001b[0m\u001b[0;34m\u001b[0m\u001b[0m\n",
      "\u001b[0;31mKeyboardInterrupt\u001b[0m: "
     ]
    }
   ],
   "source": [
    "start_time = time.time()\n",
    "selected_data_df = select_failure_events_with_preceding(\n",
    "    ordered_not_nans_data_df,\n",
    "    preceding_min_subset_len=2,\n",
    "    preceding_len_random=False\n",
    ")\n",
    "print(\"time_elapsed: {} min \".format((time.time() - start_time) / 60))"
   ]
  },
  {
   "cell_type": "code",
   "execution_count": 417,
   "metadata": {},
   "outputs": [
    {
     "data": {
      "text/html": [
       "<div>\n",
       "<style scoped>\n",
       "    .dataframe tbody tr th:only-of-type {\n",
       "        vertical-align: middle;\n",
       "    }\n",
       "\n",
       "    .dataframe tbody tr th {\n",
       "        vertical-align: top;\n",
       "    }\n",
       "\n",
       "    .dataframe thead th {\n",
       "        text-align: right;\n",
       "    }\n",
       "</style>\n",
       "<table border=\"1\" class=\"dataframe\">\n",
       "  <thead>\n",
       "    <tr style=\"text-align: right;\">\n",
       "      <th></th>\n",
       "      <th>failure</th>\n",
       "      <th>capacity_bytes</th>\n",
       "      <th>smart_1_normalized</th>\n",
       "      <th>smart_1_raw</th>\n",
       "      <th>smart_3_normalized</th>\n",
       "      <th>smart_3_raw</th>\n",
       "      <th>smart_4_normalized</th>\n",
       "      <th>smart_4_raw</th>\n",
       "      <th>smart_5_normalized</th>\n",
       "      <th>smart_5_raw</th>\n",
       "      <th>...</th>\n",
       "      <th>smart_198_normalized</th>\n",
       "      <th>smart_198_raw</th>\n",
       "      <th>smart_199_normalized</th>\n",
       "      <th>smart_199_raw</th>\n",
       "      <th>smart_240_normalized</th>\n",
       "      <th>smart_240_raw</th>\n",
       "      <th>smart_241_normalized</th>\n",
       "      <th>smart_241_raw</th>\n",
       "      <th>smart_242_normalized</th>\n",
       "      <th>smart_242_raw</th>\n",
       "    </tr>\n",
       "  </thead>\n",
       "  <tbody>\n",
       "    <tr>\n",
       "      <th>0</th>\n",
       "      <td>0</td>\n",
       "      <td>8001563222016</td>\n",
       "      <td>79.0</td>\n",
       "      <td>84603744.0</td>\n",
       "      <td>88.0</td>\n",
       "      <td>0.0</td>\n",
       "      <td>100.0</td>\n",
       "      <td>6.0</td>\n",
       "      <td>100.0</td>\n",
       "      <td>0.0</td>\n",
       "      <td>...</td>\n",
       "      <td>100.0</td>\n",
       "      <td>0.0</td>\n",
       "      <td>200.0</td>\n",
       "      <td>0.0</td>\n",
       "      <td>100.0</td>\n",
       "      <td>1.349800e+04</td>\n",
       "      <td>100.0</td>\n",
       "      <td>4.461635e+10</td>\n",
       "      <td>100.0</td>\n",
       "      <td>1.016638e+11</td>\n",
       "    </tr>\n",
       "    <tr>\n",
       "      <th>1</th>\n",
       "      <td>0</td>\n",
       "      <td>4000787030016</td>\n",
       "      <td>108.0</td>\n",
       "      <td>20963336.0</td>\n",
       "      <td>94.0</td>\n",
       "      <td>0.0</td>\n",
       "      <td>100.0</td>\n",
       "      <td>6.0</td>\n",
       "      <td>100.0</td>\n",
       "      <td>0.0</td>\n",
       "      <td>...</td>\n",
       "      <td>100.0</td>\n",
       "      <td>0.0</td>\n",
       "      <td>200.0</td>\n",
       "      <td>0.0</td>\n",
       "      <td>100.0</td>\n",
       "      <td>2.590400e+04</td>\n",
       "      <td>100.0</td>\n",
       "      <td>4.458936e+10</td>\n",
       "      <td>100.0</td>\n",
       "      <td>1.182198e+11</td>\n",
       "    </tr>\n",
       "    <tr>\n",
       "      <th>2</th>\n",
       "      <td>1</td>\n",
       "      <td>8001563222016</td>\n",
       "      <td>57.0</td>\n",
       "      <td>184212592.0</td>\n",
       "      <td>92.0</td>\n",
       "      <td>0.0</td>\n",
       "      <td>100.0</td>\n",
       "      <td>6.0</td>\n",
       "      <td>93.0</td>\n",
       "      <td>29616.0</td>\n",
       "      <td>...</td>\n",
       "      <td>100.0</td>\n",
       "      <td>0.0</td>\n",
       "      <td>200.0</td>\n",
       "      <td>0.0</td>\n",
       "      <td>100.0</td>\n",
       "      <td>1.239600e+04</td>\n",
       "      <td>100.0</td>\n",
       "      <td>3.950897e+10</td>\n",
       "      <td>100.0</td>\n",
       "      <td>8.143129e+10</td>\n",
       "    </tr>\n",
       "    <tr>\n",
       "      <th>3</th>\n",
       "      <td>0</td>\n",
       "      <td>4000787030016</td>\n",
       "      <td>100.0</td>\n",
       "      <td>0.0</td>\n",
       "      <td>100.0</td>\n",
       "      <td>427.0</td>\n",
       "      <td>100.0</td>\n",
       "      <td>8.0</td>\n",
       "      <td>100.0</td>\n",
       "      <td>0.0</td>\n",
       "      <td>...</td>\n",
       "      <td>100.0</td>\n",
       "      <td>0.0</td>\n",
       "      <td>200.0</td>\n",
       "      <td>0.0</td>\n",
       "      <td>100.0</td>\n",
       "      <td>2.462897e+11</td>\n",
       "      <td>100.0</td>\n",
       "      <td>4.957939e+10</td>\n",
       "      <td>100.0</td>\n",
       "      <td>1.182294e+11</td>\n",
       "    </tr>\n",
       "    <tr>\n",
       "      <th>4</th>\n",
       "      <td>0</td>\n",
       "      <td>4000787030016</td>\n",
       "      <td>111.0</td>\n",
       "      <td>31901456.0</td>\n",
       "      <td>92.0</td>\n",
       "      <td>0.0</td>\n",
       "      <td>100.0</td>\n",
       "      <td>8.0</td>\n",
       "      <td>100.0</td>\n",
       "      <td>0.0</td>\n",
       "      <td>...</td>\n",
       "      <td>100.0</td>\n",
       "      <td>0.0</td>\n",
       "      <td>200.0</td>\n",
       "      <td>0.0</td>\n",
       "      <td>100.0</td>\n",
       "      <td>3.050900e+04</td>\n",
       "      <td>100.0</td>\n",
       "      <td>5.465408e+10</td>\n",
       "      <td>100.0</td>\n",
       "      <td>1.114084e+11</td>\n",
       "    </tr>\n",
       "  </tbody>\n",
       "</table>\n",
       "<p>5 rows × 44 columns</p>\n",
       "</div>"
      ],
      "text/plain": [
       "   failure  capacity_bytes  smart_1_normalized  smart_1_raw  \\\n",
       "0        0   8001563222016                79.0   84603744.0   \n",
       "1        0   4000787030016               108.0   20963336.0   \n",
       "2        1   8001563222016                57.0  184212592.0   \n",
       "3        0   4000787030016               100.0          0.0   \n",
       "4        0   4000787030016               111.0   31901456.0   \n",
       "\n",
       "   smart_3_normalized  smart_3_raw  smart_4_normalized  smart_4_raw  \\\n",
       "0                88.0          0.0               100.0          6.0   \n",
       "1                94.0          0.0               100.0          6.0   \n",
       "2                92.0          0.0               100.0          6.0   \n",
       "3               100.0        427.0               100.0          8.0   \n",
       "4                92.0          0.0               100.0          8.0   \n",
       "\n",
       "   smart_5_normalized  smart_5_raw  ...  smart_198_normalized  smart_198_raw  \\\n",
       "0               100.0          0.0  ...                 100.0            0.0   \n",
       "1               100.0          0.0  ...                 100.0            0.0   \n",
       "2                93.0      29616.0  ...                 100.0            0.0   \n",
       "3               100.0          0.0  ...                 100.0            0.0   \n",
       "4               100.0          0.0  ...                 100.0            0.0   \n",
       "\n",
       "   smart_199_normalized  smart_199_raw  smart_240_normalized  smart_240_raw  \\\n",
       "0                 200.0            0.0                 100.0   1.349800e+04   \n",
       "1                 200.0            0.0                 100.0   2.590400e+04   \n",
       "2                 200.0            0.0                 100.0   1.239600e+04   \n",
       "3                 200.0            0.0                 100.0   2.462897e+11   \n",
       "4                 200.0            0.0                 100.0   3.050900e+04   \n",
       "\n",
       "   smart_241_normalized  smart_241_raw  smart_242_normalized  smart_242_raw  \n",
       "0                 100.0   4.461635e+10                 100.0   1.016638e+11  \n",
       "1                 100.0   4.458936e+10                 100.0   1.182198e+11  \n",
       "2                 100.0   3.950897e+10                 100.0   8.143129e+10  \n",
       "3                 100.0   4.957939e+10                 100.0   1.182294e+11  \n",
       "4                 100.0   5.465408e+10                 100.0   1.114084e+11  \n",
       "\n",
       "[5 rows x 44 columns]"
      ]
     },
     "execution_count": 417,
     "metadata": {},
     "output_type": "execute_result"
    }
   ],
   "source": [
    "selected_data_df.head()"
   ]
  },
  {
   "cell_type": "code",
   "execution_count": null,
   "metadata": {},
   "outputs": [],
   "source": []
  },
  {
   "cell_type": "code",
   "execution_count": null,
   "metadata": {},
   "outputs": [],
   "source": []
  },
  {
   "cell_type": "markdown",
   "metadata": {},
   "source": [
    "Разбиваем данные на независмые переменные (features) X и зависимую (target) y."
   ]
  },
  {
   "cell_type": "code",
   "execution_count": 418,
   "metadata": {},
   "outputs": [
    {
     "name": "stdout",
     "output_type": "stream",
     "text": [
      "time_elapsed: 8.927583694458008e-05 min \n"
     ]
    }
   ],
   "source": [
    "start_time = time.time()\n",
    "X, y = divide_features_and_target(selected_data_df)\n",
    "print(\"time_elapsed: {} min \".format((time.time() - start_time) / 60))"
   ]
  },
  {
   "cell_type": "code",
   "execution_count": 419,
   "metadata": {},
   "outputs": [
    {
     "data": {
      "text/html": [
       "<div>\n",
       "<style scoped>\n",
       "    .dataframe tbody tr th:only-of-type {\n",
       "        vertical-align: middle;\n",
       "    }\n",
       "\n",
       "    .dataframe tbody tr th {\n",
       "        vertical-align: top;\n",
       "    }\n",
       "\n",
       "    .dataframe thead th {\n",
       "        text-align: right;\n",
       "    }\n",
       "</style>\n",
       "<table border=\"1\" class=\"dataframe\">\n",
       "  <thead>\n",
       "    <tr style=\"text-align: right;\">\n",
       "      <th></th>\n",
       "      <th>capacity_bytes</th>\n",
       "      <th>smart_1_normalized</th>\n",
       "      <th>smart_1_raw</th>\n",
       "      <th>smart_3_normalized</th>\n",
       "      <th>smart_3_raw</th>\n",
       "      <th>smart_4_normalized</th>\n",
       "      <th>smart_4_raw</th>\n",
       "      <th>smart_5_normalized</th>\n",
       "      <th>smart_5_raw</th>\n",
       "      <th>smart_7_normalized</th>\n",
       "      <th>...</th>\n",
       "      <th>smart_198_normalized</th>\n",
       "      <th>smart_198_raw</th>\n",
       "      <th>smart_199_normalized</th>\n",
       "      <th>smart_199_raw</th>\n",
       "      <th>smart_240_normalized</th>\n",
       "      <th>smart_240_raw</th>\n",
       "      <th>smart_241_normalized</th>\n",
       "      <th>smart_241_raw</th>\n",
       "      <th>smart_242_normalized</th>\n",
       "      <th>smart_242_raw</th>\n",
       "    </tr>\n",
       "  </thead>\n",
       "  <tbody>\n",
       "    <tr>\n",
       "      <th>0</th>\n",
       "      <td>8001563222016</td>\n",
       "      <td>79.0</td>\n",
       "      <td>84603744.0</td>\n",
       "      <td>88.0</td>\n",
       "      <td>0.0</td>\n",
       "      <td>100.0</td>\n",
       "      <td>6.0</td>\n",
       "      <td>100.0</td>\n",
       "      <td>0.0</td>\n",
       "      <td>94.0</td>\n",
       "      <td>...</td>\n",
       "      <td>100.0</td>\n",
       "      <td>0.0</td>\n",
       "      <td>200.0</td>\n",
       "      <td>0.0</td>\n",
       "      <td>100.0</td>\n",
       "      <td>1.349800e+04</td>\n",
       "      <td>100.0</td>\n",
       "      <td>4.461635e+10</td>\n",
       "      <td>100.0</td>\n",
       "      <td>1.016638e+11</td>\n",
       "    </tr>\n",
       "    <tr>\n",
       "      <th>1</th>\n",
       "      <td>4000787030016</td>\n",
       "      <td>108.0</td>\n",
       "      <td>20963336.0</td>\n",
       "      <td>94.0</td>\n",
       "      <td>0.0</td>\n",
       "      <td>100.0</td>\n",
       "      <td>6.0</td>\n",
       "      <td>100.0</td>\n",
       "      <td>0.0</td>\n",
       "      <td>84.0</td>\n",
       "      <td>...</td>\n",
       "      <td>100.0</td>\n",
       "      <td>0.0</td>\n",
       "      <td>200.0</td>\n",
       "      <td>0.0</td>\n",
       "      <td>100.0</td>\n",
       "      <td>2.590400e+04</td>\n",
       "      <td>100.0</td>\n",
       "      <td>4.458936e+10</td>\n",
       "      <td>100.0</td>\n",
       "      <td>1.182198e+11</td>\n",
       "    </tr>\n",
       "    <tr>\n",
       "      <th>2</th>\n",
       "      <td>8001563222016</td>\n",
       "      <td>57.0</td>\n",
       "      <td>184212592.0</td>\n",
       "      <td>92.0</td>\n",
       "      <td>0.0</td>\n",
       "      <td>100.0</td>\n",
       "      <td>6.0</td>\n",
       "      <td>93.0</td>\n",
       "      <td>29616.0</td>\n",
       "      <td>96.0</td>\n",
       "      <td>...</td>\n",
       "      <td>100.0</td>\n",
       "      <td>0.0</td>\n",
       "      <td>200.0</td>\n",
       "      <td>0.0</td>\n",
       "      <td>100.0</td>\n",
       "      <td>1.239600e+04</td>\n",
       "      <td>100.0</td>\n",
       "      <td>3.950897e+10</td>\n",
       "      <td>100.0</td>\n",
       "      <td>8.143129e+10</td>\n",
       "    </tr>\n",
       "    <tr>\n",
       "      <th>3</th>\n",
       "      <td>4000787030016</td>\n",
       "      <td>100.0</td>\n",
       "      <td>0.0</td>\n",
       "      <td>100.0</td>\n",
       "      <td>427.0</td>\n",
       "      <td>100.0</td>\n",
       "      <td>8.0</td>\n",
       "      <td>100.0</td>\n",
       "      <td>0.0</td>\n",
       "      <td>100.0</td>\n",
       "      <td>...</td>\n",
       "      <td>100.0</td>\n",
       "      <td>0.0</td>\n",
       "      <td>200.0</td>\n",
       "      <td>0.0</td>\n",
       "      <td>100.0</td>\n",
       "      <td>2.462897e+11</td>\n",
       "      <td>100.0</td>\n",
       "      <td>4.957939e+10</td>\n",
       "      <td>100.0</td>\n",
       "      <td>1.182294e+11</td>\n",
       "    </tr>\n",
       "    <tr>\n",
       "      <th>4</th>\n",
       "      <td>4000787030016</td>\n",
       "      <td>111.0</td>\n",
       "      <td>31901456.0</td>\n",
       "      <td>92.0</td>\n",
       "      <td>0.0</td>\n",
       "      <td>100.0</td>\n",
       "      <td>8.0</td>\n",
       "      <td>100.0</td>\n",
       "      <td>0.0</td>\n",
       "      <td>87.0</td>\n",
       "      <td>...</td>\n",
       "      <td>100.0</td>\n",
       "      <td>0.0</td>\n",
       "      <td>200.0</td>\n",
       "      <td>0.0</td>\n",
       "      <td>100.0</td>\n",
       "      <td>3.050900e+04</td>\n",
       "      <td>100.0</td>\n",
       "      <td>5.465408e+10</td>\n",
       "      <td>100.0</td>\n",
       "      <td>1.114084e+11</td>\n",
       "    </tr>\n",
       "  </tbody>\n",
       "</table>\n",
       "<p>5 rows × 43 columns</p>\n",
       "</div>"
      ],
      "text/plain": [
       "   capacity_bytes  smart_1_normalized  smart_1_raw  smart_3_normalized  \\\n",
       "0   8001563222016                79.0   84603744.0                88.0   \n",
       "1   4000787030016               108.0   20963336.0                94.0   \n",
       "2   8001563222016                57.0  184212592.0                92.0   \n",
       "3   4000787030016               100.0          0.0               100.0   \n",
       "4   4000787030016               111.0   31901456.0                92.0   \n",
       "\n",
       "   smart_3_raw  smart_4_normalized  smart_4_raw  smart_5_normalized  \\\n",
       "0          0.0               100.0          6.0               100.0   \n",
       "1          0.0               100.0          6.0               100.0   \n",
       "2          0.0               100.0          6.0                93.0   \n",
       "3        427.0               100.0          8.0               100.0   \n",
       "4          0.0               100.0          8.0               100.0   \n",
       "\n",
       "   smart_5_raw  smart_7_normalized  ...  smart_198_normalized  smart_198_raw  \\\n",
       "0          0.0                94.0  ...                 100.0            0.0   \n",
       "1          0.0                84.0  ...                 100.0            0.0   \n",
       "2      29616.0                96.0  ...                 100.0            0.0   \n",
       "3          0.0               100.0  ...                 100.0            0.0   \n",
       "4          0.0                87.0  ...                 100.0            0.0   \n",
       "\n",
       "   smart_199_normalized  smart_199_raw  smart_240_normalized  smart_240_raw  \\\n",
       "0                 200.0            0.0                 100.0   1.349800e+04   \n",
       "1                 200.0            0.0                 100.0   2.590400e+04   \n",
       "2                 200.0            0.0                 100.0   1.239600e+04   \n",
       "3                 200.0            0.0                 100.0   2.462897e+11   \n",
       "4                 200.0            0.0                 100.0   3.050900e+04   \n",
       "\n",
       "   smart_241_normalized  smart_241_raw  smart_242_normalized  smart_242_raw  \n",
       "0                 100.0   4.461635e+10                 100.0   1.016638e+11  \n",
       "1                 100.0   4.458936e+10                 100.0   1.182198e+11  \n",
       "2                 100.0   3.950897e+10                 100.0   8.143129e+10  \n",
       "3                 100.0   4.957939e+10                 100.0   1.182294e+11  \n",
       "4                 100.0   5.465408e+10                 100.0   1.114084e+11  \n",
       "\n",
       "[5 rows x 43 columns]"
      ]
     },
     "execution_count": 419,
     "metadata": {},
     "output_type": "execute_result"
    }
   ],
   "source": [
    "X.head()"
   ]
  },
  {
   "cell_type": "markdown",
   "metadata": {},
   "source": [
    "Разделяем данные на обучающие и тестовые."
   ]
  },
  {
   "cell_type": "code",
   "execution_count": null,
   "metadata": {},
   "outputs": [],
   "source": []
  },
  {
   "cell_type": "code",
   "execution_count": 420,
   "metadata": {},
   "outputs": [],
   "source": [
    "X_train, X_test, y_train, y_test = train_test_split(X, y, test_size=0.25, random_state=42, shuffle=False)"
   ]
  },
  {
   "cell_type": "markdown",
   "metadata": {},
   "source": [
    "Для начала используем логистическую регрессию в качестве ML модели, далее её используем как базовую для сравнения с более сложными моделями."
   ]
  },
  {
   "cell_type": "code",
   "execution_count": 136,
   "metadata": {},
   "outputs": [],
   "source": [
    "log_reg_model = LogisticRegression()"
   ]
  },
  {
   "cell_type": "code",
   "execution_count": 137,
   "metadata": {},
   "outputs": [
    {
     "data": {
      "text/plain": [
       "LogisticRegression(C=1.0, class_weight=None, dual=False, fit_intercept=True,\n",
       "                   intercept_scaling=1, l1_ratio=None, max_iter=100,\n",
       "                   multi_class='auto', n_jobs=None, penalty='l2',\n",
       "                   random_state=None, solver='lbfgs', tol=0.0001, verbose=0,\n",
       "                   warm_start=False)"
      ]
     },
     "execution_count": 137,
     "metadata": {},
     "output_type": "execute_result"
    }
   ],
   "source": [
    "log_reg_model.fit(X_train, y_train)"
   ]
  },
  {
   "cell_type": "markdown",
   "metadata": {},
   "source": [
    "Вычисляем prediction на тестовых данных."
   ]
  },
  {
   "cell_type": "code",
   "execution_count": 286,
   "metadata": {},
   "outputs": [],
   "source": [
    "y_pred = log_reg_model.predict(X_test)"
   ]
  },
  {
   "cell_type": "markdown",
   "metadata": {},
   "source": [
    "Вычисляем accuracy."
   ]
  },
  {
   "cell_type": "code",
   "execution_count": 139,
   "metadata": {},
   "outputs": [
    {
     "data": {
      "text/plain": [
       "0.6823806717737183"
      ]
     },
     "execution_count": 139,
     "metadata": {},
     "output_type": "execute_result"
    }
   ],
   "source": [
    "accuracy_score(y_test, y_pred)"
   ]
  },
  {
   "cell_type": "markdown",
   "metadata": {},
   "source": [
    "Как видим accuracy невелика, но лучше чем 0.5."
   ]
  },
  {
   "cell_type": "markdown",
   "metadata": {},
   "source": [
    "Вычисляем confusion matrix."
   ]
  },
  {
   "cell_type": "code",
   "execution_count": 140,
   "metadata": {},
   "outputs": [
    {
     "data": {
      "text/plain": [
       "array([[1125,    6],\n",
       "       [ 533,   33]])"
      ]
     },
     "execution_count": 140,
     "metadata": {},
     "output_type": "execute_result"
    }
   ],
   "source": [
    "confusion_matrix(y_test, y_pred)"
   ]
  },
  {
   "cell_type": "markdown",
   "metadata": {},
   "source": [
    "Видим что верно предсказанных сбоев - 33, неверно предсказанных - 6, непредсказанных - 533, верно предсказанных \"несбоев\": 1125 из 1697 событий в тестовой выборке. Результат не очень хороший. Но во общем для логистической регресси это и предполагалось."
   ]
  },
  {
   "cell_type": "markdown",
   "metadata": {},
   "source": [
    "##### Далее строим Gradient Boosting модели. Будут использоваться простейшие настройки без тонкого тюнинга моделей."
   ]
  },
  {
   "cell_type": "markdown",
   "metadata": {},
   "source": [
    "Используем XGBoost - очень хорошо зарекомендававшую библиотеку для построения Gradient Boosting моделей."
   ]
  },
  {
   "cell_type": "markdown",
   "metadata": {},
   "source": [
    "Создаём pipeline, на случай если в дальнейшем нам надо будет ещё добвавить действия (например дополнительную обработку данных) до или после вызова XGBoost классификатора."
   ]
  },
  {
   "cell_type": "code",
   "execution_count": 147,
   "metadata": {},
   "outputs": [],
   "source": [
    "xgb_pipeline = Pipeline([('xgb', XGBClassifier())])"
   ]
  },
  {
   "cell_type": "markdown",
   "metadata": {},
   "source": [
    "Задаём наборы параметров для XGB классификатора. Они будут использованы для поиска по сетке наилучешего набора параметров, с использованием GridSearchCV."
   ]
  },
  {
   "cell_type": "code",
   "execution_count": 148,
   "metadata": {},
   "outputs": [],
   "source": [
    "xgb_param_grid = {\n",
    "    'xgb__n_estimators': [10, 50, 100, 500],\n",
    "    'xgb__learning_rate': [0.1, 0.5, 1]\n",
    "}\n",
    "\n",
    "xgb_fit_params = {\n",
    "    'xgb__eval_set': [(X_test, y_test)],\n",
    "    'xgb__early_stopping_rounds': 10,\n",
    "    'xgb__verbose': 3\n",
    "}"
   ]
  },
  {
   "cell_type": "code",
   "execution_count": 149,
   "metadata": {},
   "outputs": [],
   "source": [
    "xgb_search_cv = GridSearchCV(xgb_pipeline, cv=5, param_grid=xgb_param_grid)"
   ]
  },
  {
   "cell_type": "code",
   "execution_count": 150,
   "metadata": {},
   "outputs": [
    {
     "name": "stdout",
     "output_type": "stream",
     "text": [
      "[0]\tvalidation_0-error:0.129641\n",
      "Will train until validation_0-error hasn't improved in 10 rounds.\n",
      "[3]\tvalidation_0-error:0.129641\n",
      "[6]\tvalidation_0-error:0.131408\n",
      "[9]\tvalidation_0-error:0.124926\n",
      "[0]\tvalidation_0-error:0.13023\n",
      "Will train until validation_0-error hasn't improved in 10 rounds.\n",
      "[3]\tvalidation_0-error:0.132587\n",
      "[6]\tvalidation_0-error:0.131408\n",
      "[9]\tvalidation_0-error:0.128462\n",
      "[0]\tvalidation_0-error:0.129641\n",
      "Will train until validation_0-error hasn't improved in 10 rounds.\n",
      "[3]\tvalidation_0-error:0.127873\n",
      "[6]\tvalidation_0-error:0.125516\n",
      "[9]\tvalidation_0-error:0.123159\n",
      "[0]\tvalidation_0-error:0.129641\n",
      "Will train until validation_0-error hasn't improved in 10 rounds.\n",
      "[3]\tvalidation_0-error:0.131408\n",
      "[6]\tvalidation_0-error:0.127283\n",
      "[9]\tvalidation_0-error:0.123748\n",
      "[0]\tvalidation_0-error:0.129641\n",
      "Will train until validation_0-error hasn't improved in 10 rounds.\n",
      "[3]\tvalidation_0-error:0.129641\n",
      "[6]\tvalidation_0-error:0.131408\n",
      "[9]\tvalidation_0-error:0.124337\n",
      "[0]\tvalidation_0-error:0.129641\n",
      "Will train until validation_0-error hasn't improved in 10 rounds.\n",
      "[3]\tvalidation_0-error:0.129641\n",
      "[6]\tvalidation_0-error:0.131408\n",
      "[9]\tvalidation_0-error:0.124926\n",
      "[12]\tvalidation_0-error:0.125516\n",
      "[15]\tvalidation_0-error:0.124926\n",
      "[18]\tvalidation_0-error:0.125516\n",
      "[21]\tvalidation_0-error:0.126105\n",
      "[24]\tvalidation_0-error:0.125516\n",
      "Stopping. Best iteration:\n",
      "[14]\tvalidation_0-error:0.124337\n",
      "\n",
      "[0]\tvalidation_0-error:0.13023\n",
      "Will train until validation_0-error hasn't improved in 10 rounds.\n",
      "[3]\tvalidation_0-error:0.132587\n",
      "[6]\tvalidation_0-error:0.131408\n",
      "[9]\tvalidation_0-error:0.128462\n",
      "[12]\tvalidation_0-error:0.128462\n",
      "[15]\tvalidation_0-error:0.126105\n",
      "[18]\tvalidation_0-error:0.125516\n",
      "[21]\tvalidation_0-error:0.124926\n",
      "[24]\tvalidation_0-error:0.124926\n",
      "[27]\tvalidation_0-error:0.125516\n",
      "[30]\tvalidation_0-error:0.123748\n",
      "[33]\tvalidation_0-error:0.123748\n",
      "[36]\tvalidation_0-error:0.123159\n",
      "[39]\tvalidation_0-error:0.122569\n",
      "[42]\tvalidation_0-error:0.120801\n",
      "[45]\tvalidation_0-error:0.121391\n",
      "[48]\tvalidation_0-error:0.121391\n",
      "[49]\tvalidation_0-error:0.121391\n",
      "[0]\tvalidation_0-error:0.129641\n",
      "Will train until validation_0-error hasn't improved in 10 rounds.\n",
      "[3]\tvalidation_0-error:0.127873\n",
      "[6]\tvalidation_0-error:0.125516\n",
      "[9]\tvalidation_0-error:0.123159\n",
      "[12]\tvalidation_0-error:0.123159\n",
      "[15]\tvalidation_0-error:0.123748\n",
      "[18]\tvalidation_0-error:0.124337\n",
      "[21]\tvalidation_0-error:0.126105\n",
      "[24]\tvalidation_0-error:0.126694\n",
      "Stopping. Best iteration:\n",
      "[16]\tvalidation_0-error:0.122569\n",
      "\n",
      "[0]\tvalidation_0-error:0.129641\n",
      "Will train until validation_0-error hasn't improved in 10 rounds.\n",
      "[3]\tvalidation_0-error:0.131408\n",
      "[6]\tvalidation_0-error:0.127283\n",
      "[9]\tvalidation_0-error:0.123748\n",
      "[12]\tvalidation_0-error:0.123748\n",
      "[15]\tvalidation_0-error:0.125516\n",
      "[18]\tvalidation_0-error:0.125516\n",
      "Stopping. Best iteration:\n",
      "[9]\tvalidation_0-error:0.123748\n",
      "\n",
      "[0]\tvalidation_0-error:0.129641\n",
      "Will train until validation_0-error hasn't improved in 10 rounds.\n",
      "[3]\tvalidation_0-error:0.129641\n",
      "[6]\tvalidation_0-error:0.131408\n",
      "[9]\tvalidation_0-error:0.124337\n",
      "[12]\tvalidation_0-error:0.124337\n",
      "[15]\tvalidation_0-error:0.124337\n",
      "[18]\tvalidation_0-error:0.126694\n",
      "Stopping. Best iteration:\n",
      "[8]\tvalidation_0-error:0.124337\n",
      "\n",
      "[0]\tvalidation_0-error:0.129641\n",
      "Will train until validation_0-error hasn't improved in 10 rounds.\n",
      "[3]\tvalidation_0-error:0.129641\n",
      "[6]\tvalidation_0-error:0.131408\n",
      "[9]\tvalidation_0-error:0.124926\n",
      "[12]\tvalidation_0-error:0.125516\n",
      "[15]\tvalidation_0-error:0.124926\n",
      "[18]\tvalidation_0-error:0.125516\n",
      "[21]\tvalidation_0-error:0.126105\n",
      "[24]\tvalidation_0-error:0.125516\n",
      "Stopping. Best iteration:\n",
      "[14]\tvalidation_0-error:0.124337\n",
      "\n",
      "[0]\tvalidation_0-error:0.13023\n",
      "Will train until validation_0-error hasn't improved in 10 rounds.\n",
      "[3]\tvalidation_0-error:0.132587\n",
      "[6]\tvalidation_0-error:0.131408\n",
      "[9]\tvalidation_0-error:0.128462\n",
      "[12]\tvalidation_0-error:0.128462\n",
      "[15]\tvalidation_0-error:0.126105\n",
      "[18]\tvalidation_0-error:0.125516\n",
      "[21]\tvalidation_0-error:0.124926\n",
      "[24]\tvalidation_0-error:0.124926\n",
      "[27]\tvalidation_0-error:0.125516\n",
      "[30]\tvalidation_0-error:0.123748\n",
      "[33]\tvalidation_0-error:0.123748\n",
      "[36]\tvalidation_0-error:0.123159\n",
      "[39]\tvalidation_0-error:0.122569\n",
      "[42]\tvalidation_0-error:0.120801\n",
      "[45]\tvalidation_0-error:0.121391\n",
      "[48]\tvalidation_0-error:0.121391\n",
      "[51]\tvalidation_0-error:0.120801\n",
      "[54]\tvalidation_0-error:0.122569\n",
      "[57]\tvalidation_0-error:0.123748\n",
      "Stopping. Best iteration:\n",
      "[47]\tvalidation_0-error:0.120212\n",
      "\n",
      "[0]\tvalidation_0-error:0.129641\n",
      "Will train until validation_0-error hasn't improved in 10 rounds.\n",
      "[3]\tvalidation_0-error:0.127873\n",
      "[6]\tvalidation_0-error:0.125516\n",
      "[9]\tvalidation_0-error:0.123159\n",
      "[12]\tvalidation_0-error:0.123159\n",
      "[15]\tvalidation_0-error:0.123748\n",
      "[18]\tvalidation_0-error:0.124337\n",
      "[21]\tvalidation_0-error:0.126105\n",
      "[24]\tvalidation_0-error:0.126694\n",
      "Stopping. Best iteration:\n",
      "[16]\tvalidation_0-error:0.122569\n",
      "\n",
      "[0]\tvalidation_0-error:0.129641\n",
      "Will train until validation_0-error hasn't improved in 10 rounds.\n",
      "[3]\tvalidation_0-error:0.131408\n",
      "[6]\tvalidation_0-error:0.127283\n",
      "[9]\tvalidation_0-error:0.123748\n",
      "[12]\tvalidation_0-error:0.123748\n",
      "[15]\tvalidation_0-error:0.125516\n",
      "[18]\tvalidation_0-error:0.125516\n",
      "Stopping. Best iteration:\n",
      "[9]\tvalidation_0-error:0.123748\n",
      "\n",
      "[0]\tvalidation_0-error:0.129641\n",
      "Will train until validation_0-error hasn't improved in 10 rounds.\n",
      "[3]\tvalidation_0-error:0.129641\n",
      "[6]\tvalidation_0-error:0.131408\n",
      "[9]\tvalidation_0-error:0.124337\n",
      "[12]\tvalidation_0-error:0.124337\n",
      "[15]\tvalidation_0-error:0.124337\n",
      "[18]\tvalidation_0-error:0.126694\n",
      "Stopping. Best iteration:\n",
      "[8]\tvalidation_0-error:0.124337\n",
      "\n",
      "[0]\tvalidation_0-error:0.129641\n",
      "Will train until validation_0-error hasn't improved in 10 rounds.\n",
      "[3]\tvalidation_0-error:0.129641\n",
      "[6]\tvalidation_0-error:0.131408\n",
      "[9]\tvalidation_0-error:0.124926\n",
      "[12]\tvalidation_0-error:0.125516\n",
      "[15]\tvalidation_0-error:0.124926\n",
      "[18]\tvalidation_0-error:0.125516\n",
      "[21]\tvalidation_0-error:0.126105\n",
      "[24]\tvalidation_0-error:0.125516\n",
      "Stopping. Best iteration:\n",
      "[14]\tvalidation_0-error:0.124337\n",
      "\n",
      "[0]\tvalidation_0-error:0.13023\n",
      "Will train until validation_0-error hasn't improved in 10 rounds.\n",
      "[3]\tvalidation_0-error:0.132587\n",
      "[6]\tvalidation_0-error:0.131408\n",
      "[9]\tvalidation_0-error:0.128462\n",
      "[12]\tvalidation_0-error:0.128462\n",
      "[15]\tvalidation_0-error:0.126105\n",
      "[18]\tvalidation_0-error:0.125516\n",
      "[21]\tvalidation_0-error:0.124926\n",
      "[24]\tvalidation_0-error:0.124926\n",
      "[27]\tvalidation_0-error:0.125516\n",
      "[30]\tvalidation_0-error:0.123748\n",
      "[33]\tvalidation_0-error:0.123748\n",
      "[36]\tvalidation_0-error:0.123159\n",
      "[39]\tvalidation_0-error:0.122569\n",
      "[42]\tvalidation_0-error:0.120801\n",
      "[45]\tvalidation_0-error:0.121391\n",
      "[48]\tvalidation_0-error:0.121391\n",
      "[51]\tvalidation_0-error:0.120801\n",
      "[54]\tvalidation_0-error:0.122569\n",
      "[57]\tvalidation_0-error:0.123748\n",
      "Stopping. Best iteration:\n",
      "[47]\tvalidation_0-error:0.120212\n",
      "\n",
      "[0]\tvalidation_0-error:0.129641\n",
      "Will train until validation_0-error hasn't improved in 10 rounds.\n",
      "[3]\tvalidation_0-error:0.127873\n",
      "[6]\tvalidation_0-error:0.125516\n",
      "[9]\tvalidation_0-error:0.123159\n",
      "[12]\tvalidation_0-error:0.123159\n",
      "[15]\tvalidation_0-error:0.123748\n",
      "[18]\tvalidation_0-error:0.124337\n",
      "[21]\tvalidation_0-error:0.126105\n",
      "[24]\tvalidation_0-error:0.126694\n",
      "Stopping. Best iteration:\n",
      "[16]\tvalidation_0-error:0.122569\n",
      "\n",
      "[0]\tvalidation_0-error:0.129641\n",
      "Will train until validation_0-error hasn't improved in 10 rounds.\n",
      "[3]\tvalidation_0-error:0.131408\n",
      "[6]\tvalidation_0-error:0.127283\n",
      "[9]\tvalidation_0-error:0.123748\n",
      "[12]\tvalidation_0-error:0.123748\n",
      "[15]\tvalidation_0-error:0.125516\n",
      "[18]\tvalidation_0-error:0.125516\n",
      "Stopping. Best iteration:\n",
      "[9]\tvalidation_0-error:0.123748\n",
      "\n",
      "[0]\tvalidation_0-error:0.129641\n",
      "Will train until validation_0-error hasn't improved in 10 rounds.\n",
      "[3]\tvalidation_0-error:0.129641\n",
      "[6]\tvalidation_0-error:0.131408\n",
      "[9]\tvalidation_0-error:0.124337\n",
      "[12]\tvalidation_0-error:0.124337\n",
      "[15]\tvalidation_0-error:0.124337\n",
      "[18]\tvalidation_0-error:0.126694\n",
      "Stopping. Best iteration:\n",
      "[8]\tvalidation_0-error:0.124337\n",
      "\n",
      "[0]\tvalidation_0-error:0.129641\n",
      "Will train until validation_0-error hasn't improved in 10 rounds.\n",
      "[3]\tvalidation_0-error:0.128462\n",
      "[6]\tvalidation_0-error:0.124337\n",
      "[9]\tvalidation_0-error:0.122569\n",
      "[0]\tvalidation_0-error:0.13023\n",
      "Will train until validation_0-error hasn't improved in 10 rounds.\n",
      "[3]\tvalidation_0-error:0.129641\n",
      "[6]\tvalidation_0-error:0.126694\n",
      "[9]\tvalidation_0-error:0.126105\n"
     ]
    },
    {
     "name": "stdout",
     "output_type": "stream",
     "text": [
      "[0]\tvalidation_0-error:0.129641\n",
      "Will train until validation_0-error hasn't improved in 10 rounds.\n",
      "[3]\tvalidation_0-error:0.13023\n",
      "[6]\tvalidation_0-error:0.124337\n",
      "[9]\tvalidation_0-error:0.124337\n",
      "[0]\tvalidation_0-error:0.129641\n",
      "Will train until validation_0-error hasn't improved in 10 rounds.\n",
      "[3]\tvalidation_0-error:0.128462\n",
      "[6]\tvalidation_0-error:0.128462\n",
      "[9]\tvalidation_0-error:0.123748\n",
      "[0]\tvalidation_0-error:0.129641\n",
      "Will train until validation_0-error hasn't improved in 10 rounds.\n",
      "[3]\tvalidation_0-error:0.126105\n",
      "[6]\tvalidation_0-error:0.123748\n",
      "[9]\tvalidation_0-error:0.122569\n",
      "[0]\tvalidation_0-error:0.129641\n",
      "Will train until validation_0-error hasn't improved in 10 rounds.\n",
      "[3]\tvalidation_0-error:0.128462\n",
      "[6]\tvalidation_0-error:0.124337\n",
      "[9]\tvalidation_0-error:0.122569\n",
      "[12]\tvalidation_0-error:0.126105\n",
      "[15]\tvalidation_0-error:0.124337\n",
      "[18]\tvalidation_0-error:0.123159\n",
      "[21]\tvalidation_0-error:0.120801\n",
      "[24]\tvalidation_0-error:0.122569\n",
      "[27]\tvalidation_0-error:0.119623\n",
      "[30]\tvalidation_0-error:0.12198\n",
      "[33]\tvalidation_0-error:0.12198\n",
      "[36]\tvalidation_0-error:0.123748\n",
      "Stopping. Best iteration:\n",
      "[26]\tvalidation_0-error:0.119623\n",
      "\n",
      "[0]\tvalidation_0-error:0.13023\n",
      "Will train until validation_0-error hasn't improved in 10 rounds.\n",
      "[3]\tvalidation_0-error:0.129641\n",
      "[6]\tvalidation_0-error:0.126694\n",
      "[9]\tvalidation_0-error:0.126105\n",
      "[12]\tvalidation_0-error:0.123748\n",
      "[15]\tvalidation_0-error:0.126694\n",
      "[18]\tvalidation_0-error:0.126105\n",
      "[21]\tvalidation_0-error:0.126694\n",
      "[24]\tvalidation_0-error:0.126694\n",
      "Stopping. Best iteration:\n",
      "[14]\tvalidation_0-error:0.123159\n",
      "\n",
      "[0]\tvalidation_0-error:0.129641\n",
      "Will train until validation_0-error hasn't improved in 10 rounds.\n",
      "[3]\tvalidation_0-error:0.13023\n",
      "[6]\tvalidation_0-error:0.124337\n",
      "[9]\tvalidation_0-error:0.124337\n",
      "[12]\tvalidation_0-error:0.123159\n",
      "[15]\tvalidation_0-error:0.124337\n",
      "[18]\tvalidation_0-error:0.124337\n",
      "[21]\tvalidation_0-error:0.126105\n",
      "Stopping. Best iteration:\n",
      "[12]\tvalidation_0-error:0.123159\n",
      "\n",
      "[0]\tvalidation_0-error:0.129641\n",
      "Will train until validation_0-error hasn't improved in 10 rounds.\n",
      "[3]\tvalidation_0-error:0.128462\n",
      "[6]\tvalidation_0-error:0.128462\n",
      "[9]\tvalidation_0-error:0.123748\n",
      "[12]\tvalidation_0-error:0.120801\n",
      "[15]\tvalidation_0-error:0.121391\n",
      "[18]\tvalidation_0-error:0.12198\n",
      "[21]\tvalidation_0-error:0.12198\n",
      "Stopping. Best iteration:\n",
      "[12]\tvalidation_0-error:0.120801\n",
      "\n",
      "[0]\tvalidation_0-error:0.129641\n",
      "Will train until validation_0-error hasn't improved in 10 rounds.\n",
      "[3]\tvalidation_0-error:0.126105\n",
      "[6]\tvalidation_0-error:0.123748\n",
      "[9]\tvalidation_0-error:0.122569\n",
      "[12]\tvalidation_0-error:0.123748\n",
      "[15]\tvalidation_0-error:0.121391\n",
      "[18]\tvalidation_0-error:0.126105\n",
      "Stopping. Best iteration:\n",
      "[10]\tvalidation_0-error:0.121391\n",
      "\n",
      "[0]\tvalidation_0-error:0.129641\n",
      "Will train until validation_0-error hasn't improved in 10 rounds.\n",
      "[3]\tvalidation_0-error:0.128462\n",
      "[6]\tvalidation_0-error:0.124337\n",
      "[9]\tvalidation_0-error:0.122569\n",
      "[12]\tvalidation_0-error:0.126105\n",
      "[15]\tvalidation_0-error:0.124337\n",
      "[18]\tvalidation_0-error:0.123159\n",
      "[21]\tvalidation_0-error:0.120801\n",
      "[24]\tvalidation_0-error:0.122569\n",
      "[27]\tvalidation_0-error:0.119623\n",
      "[30]\tvalidation_0-error:0.12198\n",
      "[33]\tvalidation_0-error:0.12198\n",
      "[36]\tvalidation_0-error:0.123748\n",
      "Stopping. Best iteration:\n",
      "[26]\tvalidation_0-error:0.119623\n",
      "\n",
      "[0]\tvalidation_0-error:0.13023\n",
      "Will train until validation_0-error hasn't improved in 10 rounds.\n",
      "[3]\tvalidation_0-error:0.129641\n",
      "[6]\tvalidation_0-error:0.126694\n",
      "[9]\tvalidation_0-error:0.126105\n",
      "[12]\tvalidation_0-error:0.123748\n",
      "[15]\tvalidation_0-error:0.126694\n",
      "[18]\tvalidation_0-error:0.126105\n",
      "[21]\tvalidation_0-error:0.126694\n",
      "[24]\tvalidation_0-error:0.126694\n",
      "Stopping. Best iteration:\n",
      "[14]\tvalidation_0-error:0.123159\n",
      "\n",
      "[0]\tvalidation_0-error:0.129641\n",
      "Will train until validation_0-error hasn't improved in 10 rounds.\n",
      "[3]\tvalidation_0-error:0.13023\n",
      "[6]\tvalidation_0-error:0.124337\n",
      "[9]\tvalidation_0-error:0.124337\n",
      "[12]\tvalidation_0-error:0.123159\n",
      "[15]\tvalidation_0-error:0.124337\n",
      "[18]\tvalidation_0-error:0.124337\n",
      "[21]\tvalidation_0-error:0.126105\n",
      "Stopping. Best iteration:\n",
      "[12]\tvalidation_0-error:0.123159\n",
      "\n",
      "[0]\tvalidation_0-error:0.129641\n",
      "Will train until validation_0-error hasn't improved in 10 rounds.\n",
      "[3]\tvalidation_0-error:0.128462\n",
      "[6]\tvalidation_0-error:0.128462\n",
      "[9]\tvalidation_0-error:0.123748\n",
      "[12]\tvalidation_0-error:0.120801\n",
      "[15]\tvalidation_0-error:0.121391\n",
      "[18]\tvalidation_0-error:0.12198\n",
      "[21]\tvalidation_0-error:0.12198\n",
      "Stopping. Best iteration:\n",
      "[12]\tvalidation_0-error:0.120801\n",
      "\n",
      "[0]\tvalidation_0-error:0.129641\n",
      "Will train until validation_0-error hasn't improved in 10 rounds.\n",
      "[3]\tvalidation_0-error:0.126105\n",
      "[6]\tvalidation_0-error:0.123748\n",
      "[9]\tvalidation_0-error:0.122569\n",
      "[12]\tvalidation_0-error:0.123748\n",
      "[15]\tvalidation_0-error:0.121391\n",
      "[18]\tvalidation_0-error:0.126105\n",
      "Stopping. Best iteration:\n",
      "[10]\tvalidation_0-error:0.121391\n",
      "\n",
      "[0]\tvalidation_0-error:0.129641\n",
      "Will train until validation_0-error hasn't improved in 10 rounds.\n",
      "[3]\tvalidation_0-error:0.128462\n",
      "[6]\tvalidation_0-error:0.124337\n",
      "[9]\tvalidation_0-error:0.122569\n",
      "[12]\tvalidation_0-error:0.126105\n",
      "[15]\tvalidation_0-error:0.124337\n",
      "[18]\tvalidation_0-error:0.123159\n",
      "[21]\tvalidation_0-error:0.120801\n",
      "[24]\tvalidation_0-error:0.122569\n",
      "[27]\tvalidation_0-error:0.119623\n",
      "[30]\tvalidation_0-error:0.12198\n",
      "[33]\tvalidation_0-error:0.12198\n",
      "[36]\tvalidation_0-error:0.123748\n",
      "Stopping. Best iteration:\n",
      "[26]\tvalidation_0-error:0.119623\n",
      "\n",
      "[0]\tvalidation_0-error:0.13023\n",
      "Will train until validation_0-error hasn't improved in 10 rounds.\n",
      "[3]\tvalidation_0-error:0.129641\n",
      "[6]\tvalidation_0-error:0.126694\n",
      "[9]\tvalidation_0-error:0.126105\n",
      "[12]\tvalidation_0-error:0.123748\n",
      "[15]\tvalidation_0-error:0.126694\n",
      "[18]\tvalidation_0-error:0.126105\n",
      "[21]\tvalidation_0-error:0.126694\n",
      "[24]\tvalidation_0-error:0.126694\n",
      "Stopping. Best iteration:\n",
      "[14]\tvalidation_0-error:0.123159\n",
      "\n",
      "[0]\tvalidation_0-error:0.129641\n",
      "Will train until validation_0-error hasn't improved in 10 rounds.\n",
      "[3]\tvalidation_0-error:0.13023\n",
      "[6]\tvalidation_0-error:0.124337\n",
      "[9]\tvalidation_0-error:0.124337\n",
      "[12]\tvalidation_0-error:0.123159\n",
      "[15]\tvalidation_0-error:0.124337\n",
      "[18]\tvalidation_0-error:0.124337\n",
      "[21]\tvalidation_0-error:0.126105\n",
      "Stopping. Best iteration:\n",
      "[12]\tvalidation_0-error:0.123159\n",
      "\n",
      "[0]\tvalidation_0-error:0.129641\n",
      "Will train until validation_0-error hasn't improved in 10 rounds.\n",
      "[3]\tvalidation_0-error:0.128462\n",
      "[6]\tvalidation_0-error:0.128462\n",
      "[9]\tvalidation_0-error:0.123748\n",
      "[12]\tvalidation_0-error:0.120801\n",
      "[15]\tvalidation_0-error:0.121391\n",
      "[18]\tvalidation_0-error:0.12198\n",
      "[21]\tvalidation_0-error:0.12198\n",
      "Stopping. Best iteration:\n",
      "[12]\tvalidation_0-error:0.120801\n",
      "\n",
      "[0]\tvalidation_0-error:0.129641\n",
      "Will train until validation_0-error hasn't improved in 10 rounds.\n",
      "[3]\tvalidation_0-error:0.126105\n",
      "[6]\tvalidation_0-error:0.123748\n",
      "[9]\tvalidation_0-error:0.122569\n",
      "[12]\tvalidation_0-error:0.123748\n",
      "[15]\tvalidation_0-error:0.121391\n",
      "[18]\tvalidation_0-error:0.126105\n",
      "Stopping. Best iteration:\n",
      "[10]\tvalidation_0-error:0.121391\n",
      "\n",
      "[0]\tvalidation_0-error:0.129641\n",
      "Will train until validation_0-error hasn't improved in 10 rounds.\n",
      "[3]\tvalidation_0-error:0.141426\n",
      "[6]\tvalidation_0-error:0.133176\n",
      "[9]\tvalidation_0-error:0.134355\n",
      "[0]\tvalidation_0-error:0.13023\n",
      "Will train until validation_0-error hasn't improved in 10 rounds.\n",
      "[3]\tvalidation_0-error:0.130819\n",
      "[6]\tvalidation_0-error:0.131408\n",
      "[9]\tvalidation_0-error:0.129051\n",
      "[0]\tvalidation_0-error:0.129641\n",
      "Will train until validation_0-error hasn't improved in 10 rounds.\n",
      "[3]\tvalidation_0-error:0.136123\n",
      "[6]\tvalidation_0-error:0.13789\n",
      "[9]\tvalidation_0-error:0.135533\n",
      "[0]\tvalidation_0-error:0.129641\n",
      "Will train until validation_0-error hasn't improved in 10 rounds.\n",
      "[3]\tvalidation_0-error:0.128462\n",
      "[6]\tvalidation_0-error:0.123748\n",
      "[9]\tvalidation_0-error:0.126694\n",
      "[0]\tvalidation_0-error:0.129641\n",
      "Will train until validation_0-error hasn't improved in 10 rounds.\n",
      "[3]\tvalidation_0-error:0.137301\n",
      "[6]\tvalidation_0-error:0.127873\n",
      "[9]\tvalidation_0-error:0.129641\n",
      "[0]\tvalidation_0-error:0.129641\n",
      "Will train until validation_0-error hasn't improved in 10 rounds.\n",
      "[3]\tvalidation_0-error:0.141426\n",
      "[6]\tvalidation_0-error:0.133176\n",
      "[9]\tvalidation_0-error:0.134355\n",
      "[12]\tvalidation_0-error:0.124337\n",
      "[15]\tvalidation_0-error:0.142015\n",
      "[18]\tvalidation_0-error:0.144372\n",
      "Stopping. Best iteration:\n",
      "[8]\tvalidation_0-error:0.123748\n",
      "\n",
      "[0]\tvalidation_0-error:0.13023\n"
     ]
    },
    {
     "name": "stdout",
     "output_type": "stream",
     "text": [
      "Will train until validation_0-error hasn't improved in 10 rounds.\n",
      "[3]\tvalidation_0-error:0.130819\n",
      "[6]\tvalidation_0-error:0.131408\n",
      "[9]\tvalidation_0-error:0.129051\n",
      "[12]\tvalidation_0-error:0.133176\n",
      "[15]\tvalidation_0-error:0.131408\n",
      "Stopping. Best iteration:\n",
      "[5]\tvalidation_0-error:0.126694\n",
      "\n",
      "[0]\tvalidation_0-error:0.129641\n",
      "Will train until validation_0-error hasn't improved in 10 rounds.\n",
      "[3]\tvalidation_0-error:0.136123\n",
      "[6]\tvalidation_0-error:0.13789\n",
      "[9]\tvalidation_0-error:0.135533\n",
      "Stopping. Best iteration:\n",
      "[0]\tvalidation_0-error:0.129641\n",
      "\n",
      "[0]\tvalidation_0-error:0.129641\n",
      "Will train until validation_0-error hasn't improved in 10 rounds.\n",
      "[3]\tvalidation_0-error:0.128462\n",
      "[6]\tvalidation_0-error:0.123748\n",
      "[9]\tvalidation_0-error:0.126694\n",
      "[12]\tvalidation_0-error:0.128462\n",
      "[15]\tvalidation_0-error:0.132587\n",
      "[18]\tvalidation_0-error:0.135533\n",
      "Stopping. Best iteration:\n",
      "[8]\tvalidation_0-error:0.12198\n",
      "\n",
      "[0]\tvalidation_0-error:0.129641\n",
      "Will train until validation_0-error hasn't improved in 10 rounds.\n",
      "[3]\tvalidation_0-error:0.137301\n",
      "[6]\tvalidation_0-error:0.127873\n",
      "[9]\tvalidation_0-error:0.129641\n",
      "[12]\tvalidation_0-error:0.126694\n",
      "Stopping. Best iteration:\n",
      "[2]\tvalidation_0-error:0.119034\n",
      "\n",
      "[0]\tvalidation_0-error:0.129641\n",
      "Will train until validation_0-error hasn't improved in 10 rounds.\n",
      "[3]\tvalidation_0-error:0.141426\n",
      "[6]\tvalidation_0-error:0.133176\n",
      "[9]\tvalidation_0-error:0.134355\n",
      "[12]\tvalidation_0-error:0.124337\n",
      "[15]\tvalidation_0-error:0.142015\n",
      "[18]\tvalidation_0-error:0.144372\n",
      "Stopping. Best iteration:\n",
      "[8]\tvalidation_0-error:0.123748\n",
      "\n",
      "[0]\tvalidation_0-error:0.13023\n",
      "Will train until validation_0-error hasn't improved in 10 rounds.\n",
      "[3]\tvalidation_0-error:0.130819\n",
      "[6]\tvalidation_0-error:0.131408\n",
      "[9]\tvalidation_0-error:0.129051\n",
      "[12]\tvalidation_0-error:0.133176\n",
      "[15]\tvalidation_0-error:0.131408\n",
      "Stopping. Best iteration:\n",
      "[5]\tvalidation_0-error:0.126694\n",
      "\n",
      "[0]\tvalidation_0-error:0.129641\n",
      "Will train until validation_0-error hasn't improved in 10 rounds.\n",
      "[3]\tvalidation_0-error:0.136123\n",
      "[6]\tvalidation_0-error:0.13789\n",
      "[9]\tvalidation_0-error:0.135533\n",
      "Stopping. Best iteration:\n",
      "[0]\tvalidation_0-error:0.129641\n",
      "\n",
      "[0]\tvalidation_0-error:0.129641\n",
      "Will train until validation_0-error hasn't improved in 10 rounds.\n",
      "[3]\tvalidation_0-error:0.128462\n",
      "[6]\tvalidation_0-error:0.123748\n",
      "[9]\tvalidation_0-error:0.126694\n",
      "[12]\tvalidation_0-error:0.128462\n",
      "[15]\tvalidation_0-error:0.132587\n",
      "[18]\tvalidation_0-error:0.135533\n",
      "Stopping. Best iteration:\n",
      "[8]\tvalidation_0-error:0.12198\n",
      "\n",
      "[0]\tvalidation_0-error:0.129641\n",
      "Will train until validation_0-error hasn't improved in 10 rounds.\n",
      "[3]\tvalidation_0-error:0.137301\n",
      "[6]\tvalidation_0-error:0.127873\n",
      "[9]\tvalidation_0-error:0.129641\n",
      "[12]\tvalidation_0-error:0.126694\n",
      "Stopping. Best iteration:\n",
      "[2]\tvalidation_0-error:0.119034\n",
      "\n",
      "[0]\tvalidation_0-error:0.129641\n",
      "Will train until validation_0-error hasn't improved in 10 rounds.\n",
      "[3]\tvalidation_0-error:0.141426\n",
      "[6]\tvalidation_0-error:0.133176\n",
      "[9]\tvalidation_0-error:0.134355\n",
      "[12]\tvalidation_0-error:0.124337\n",
      "[15]\tvalidation_0-error:0.142015\n",
      "[18]\tvalidation_0-error:0.144372\n",
      "Stopping. Best iteration:\n",
      "[8]\tvalidation_0-error:0.123748\n",
      "\n",
      "[0]\tvalidation_0-error:0.13023\n",
      "Will train until validation_0-error hasn't improved in 10 rounds.\n",
      "[3]\tvalidation_0-error:0.130819\n",
      "[6]\tvalidation_0-error:0.131408\n",
      "[9]\tvalidation_0-error:0.129051\n",
      "[12]\tvalidation_0-error:0.133176\n",
      "[15]\tvalidation_0-error:0.131408\n",
      "Stopping. Best iteration:\n",
      "[5]\tvalidation_0-error:0.126694\n",
      "\n",
      "[0]\tvalidation_0-error:0.129641\n",
      "Will train until validation_0-error hasn't improved in 10 rounds.\n",
      "[3]\tvalidation_0-error:0.136123\n",
      "[6]\tvalidation_0-error:0.13789\n",
      "[9]\tvalidation_0-error:0.135533\n",
      "Stopping. Best iteration:\n",
      "[0]\tvalidation_0-error:0.129641\n",
      "\n",
      "[0]\tvalidation_0-error:0.129641\n",
      "Will train until validation_0-error hasn't improved in 10 rounds.\n",
      "[3]\tvalidation_0-error:0.128462\n",
      "[6]\tvalidation_0-error:0.123748\n",
      "[9]\tvalidation_0-error:0.126694\n",
      "[12]\tvalidation_0-error:0.128462\n",
      "[15]\tvalidation_0-error:0.132587\n",
      "[18]\tvalidation_0-error:0.135533\n",
      "Stopping. Best iteration:\n",
      "[8]\tvalidation_0-error:0.12198\n",
      "\n",
      "[0]\tvalidation_0-error:0.129641\n",
      "Will train until validation_0-error hasn't improved in 10 rounds.\n",
      "[3]\tvalidation_0-error:0.137301\n",
      "[6]\tvalidation_0-error:0.127873\n",
      "[9]\tvalidation_0-error:0.129641\n",
      "[12]\tvalidation_0-error:0.126694\n",
      "Stopping. Best iteration:\n",
      "[2]\tvalidation_0-error:0.119034\n",
      "\n",
      "[0]\tvalidation_0-error:0.129641\n",
      "Will train until validation_0-error hasn't improved in 10 rounds.\n",
      "[3]\tvalidation_0-error:0.129051\n",
      "[6]\tvalidation_0-error:0.123159\n",
      "[9]\tvalidation_0-error:0.12198\n",
      "[12]\tvalidation_0-error:0.123159\n",
      "[15]\tvalidation_0-error:0.123748\n",
      "[18]\tvalidation_0-error:0.120801\n",
      "[21]\tvalidation_0-error:0.12198\n",
      "Stopping. Best iteration:\n",
      "[11]\tvalidation_0-error:0.120801\n",
      "\n",
      "elapsed time: 0.15679389238357544 min\n"
     ]
    }
   ],
   "source": [
    "start_time = time.time()\n",
    "xgb_search_cv.fit(X_train, y_train, **xgb_fit_params)\n",
    "print(\"elapsed time: {} min\".format((time.time() - start_time) / 60))"
   ]
  },
  {
   "cell_type": "markdown",
   "metadata": {},
   "source": [
    "Так же как и для логистической регресси находим prediction на тестовых данных."
   ]
  },
  {
   "cell_type": "code",
   "execution_count": 153,
   "metadata": {},
   "outputs": [],
   "source": [
    "y_pred_xgb = xgb_search_cv.best_estimator_.predict(X_test)"
   ]
  },
  {
   "cell_type": "markdown",
   "metadata": {},
   "source": [
    "Вычисляем accuracy:"
   ]
  },
  {
   "cell_type": "code",
   "execution_count": 154,
   "metadata": {},
   "outputs": [
    {
     "data": {
      "text/plain": [
       "0.8791985857395404"
      ]
     },
     "execution_count": 154,
     "metadata": {},
     "output_type": "execute_result"
    }
   ],
   "source": [
    "accuracy_score(y_test, y_pred_xgb)"
   ]
  },
  {
   "cell_type": "markdown",
   "metadata": {},
   "source": [
    "Как видим accuracy уже значительно лучше."
   ]
  },
  {
   "cell_type": "markdown",
   "metadata": {},
   "source": [
    "Вычисляем confusion matrix."
   ]
  },
  {
   "cell_type": "code",
   "execution_count": 155,
   "metadata": {},
   "outputs": [
    {
     "data": {
      "text/plain": [
       "array([[1079,   52],\n",
       "       [ 153,  413]])"
      ]
     },
     "execution_count": 155,
     "metadata": {},
     "output_type": "execute_result"
    }
   ],
   "source": [
    "confusion_matrix(y_test, y_pred_xgb)"
   ]
  },
  {
   "cell_type": "markdown",
   "metadata": {},
   "source": [
    "Как видим XGBoost верно предсказал 413 отказов, неверно предсказал 52 отказа, не предсказал 153, верно предсказал 1079 \"неотказов\" что уже можно использовать в \"боевой\" обстановке."
   ]
  },
  {
   "cell_type": "markdown",
   "metadata": {},
   "source": [
    "Далее используем LightGBM - библиотеку соперничающюю с XGBoost в эффективности. Производим те же самые шаги что и для XGBoost."
   ]
  },
  {
   "cell_type": "code",
   "execution_count": 55,
   "metadata": {},
   "outputs": [],
   "source": [
    "lgbm_pipeline = Pipeline([('lgbm', LGBMClassifier())])"
   ]
  },
  {
   "cell_type": "code",
   "execution_count": 158,
   "metadata": {},
   "outputs": [],
   "source": [
    "lgbm_param_grid = {\n",
    "    'lgbm__n_estimators': [10, 50, 100, 500],\n",
    "    'lgbm__learning_rate': [0.1, 0.5, 1]\n",
    "}\n",
    "\n",
    "lgbm_fit_params = {\n",
    "    'lgbm__early_stopping_rounds': 30, \n",
    "    'lgbm__eval_metric': 'auc', \n",
    "    'lgbm__eval_set': [(X_test,y_test)],\n",
    "    'lgbm__eval_names': 'valid',\n",
    "    'lgbm__verbose': 100,\n",
    "}"
   ]
  },
  {
   "cell_type": "code",
   "execution_count": 159,
   "metadata": {},
   "outputs": [],
   "source": [
    "lgbm_search_cv = GridSearchCV(lgbm_pipeline, cv=5, param_grid=lgbm_param_grid)"
   ]
  },
  {
   "cell_type": "code",
   "execution_count": 160,
   "metadata": {},
   "outputs": [
    {
     "name": "stdout",
     "output_type": "stream",
     "text": [
      "Training until validation scores don't improve for 30 rounds\n",
      "Did not meet early stopping. Best iteration is:\n",
      "[10]\tvalid's auc: 0.892011\tvalid's binary_logloss: 0.398001\n",
      "Training until validation scores don't improve for 30 rounds\n",
      "Did not meet early stopping. Best iteration is:\n",
      "[9]\tvalid's auc: 0.890071\tvalid's binary_logloss: 0.401398\n",
      "Training until validation scores don't improve for 30 rounds\n",
      "Did not meet early stopping. Best iteration is:\n",
      "[10]\tvalid's auc: 0.893327\tvalid's binary_logloss: 0.390988\n",
      "Training until validation scores don't improve for 30 rounds\n",
      "Did not meet early stopping. Best iteration is:\n",
      "[8]\tvalid's auc: 0.892503\tvalid's binary_logloss: 0.410426\n",
      "Training until validation scores don't improve for 30 rounds\n",
      "Did not meet early stopping. Best iteration is:\n",
      "[6]\tvalid's auc: 0.892297\tvalid's binary_logloss: 0.444032\n",
      "Training until validation scores don't improve for 30 rounds\n",
      "Did not meet early stopping. Best iteration is:\n",
      "[22]\tvalid's auc: 0.895938\tvalid's binary_logloss: 0.34861\n",
      "Training until validation scores don't improve for 30 rounds\n",
      "Did not meet early stopping. Best iteration is:\n",
      "[24]\tvalid's auc: 0.896319\tvalid's binary_logloss: 0.34544\n",
      "Training until validation scores don't improve for 30 rounds\n",
      "Did not meet early stopping. Best iteration is:\n",
      "[22]\tvalid's auc: 0.898331\tvalid's binary_logloss: 0.342934\n",
      "Training until validation scores don't improve for 30 rounds\n",
      "Early stopping, best iteration is:\n",
      "[20]\tvalid's auc: 0.898007\tvalid's binary_logloss: 0.347399\n",
      "Training until validation scores don't improve for 30 rounds\n",
      "Did not meet early stopping. Best iteration is:\n",
      "[25]\tvalid's auc: 0.900873\tvalid's binary_logloss: 0.344286\n",
      "Training until validation scores don't improve for 30 rounds\n",
      "Early stopping, best iteration is:\n",
      "[22]\tvalid's auc: 0.895938\tvalid's binary_logloss: 0.34861\n",
      "Training until validation scores don't improve for 30 rounds\n",
      "Early stopping, best iteration is:\n",
      "[24]\tvalid's auc: 0.896319\tvalid's binary_logloss: 0.34544\n",
      "Training until validation scores don't improve for 30 rounds\n",
      "Early stopping, best iteration is:\n",
      "[22]\tvalid's auc: 0.898331\tvalid's binary_logloss: 0.342934\n",
      "Training until validation scores don't improve for 30 rounds\n",
      "Early stopping, best iteration is:\n",
      "[20]\tvalid's auc: 0.898007\tvalid's binary_logloss: 0.347399\n",
      "Training until validation scores don't improve for 30 rounds\n",
      "Early stopping, best iteration is:\n",
      "[25]\tvalid's auc: 0.900873\tvalid's binary_logloss: 0.344286\n",
      "Training until validation scores don't improve for 30 rounds\n",
      "Early stopping, best iteration is:\n",
      "[22]\tvalid's auc: 0.895938\tvalid's binary_logloss: 0.34861\n",
      "Training until validation scores don't improve for 30 rounds\n",
      "Early stopping, best iteration is:\n",
      "[24]\tvalid's auc: 0.896319\tvalid's binary_logloss: 0.34544\n",
      "Training until validation scores don't improve for 30 rounds\n",
      "Early stopping, best iteration is:\n",
      "[22]\tvalid's auc: 0.898331\tvalid's binary_logloss: 0.342934\n",
      "Training until validation scores don't improve for 30 rounds\n",
      "Early stopping, best iteration is:\n",
      "[20]\tvalid's auc: 0.898007\tvalid's binary_logloss: 0.347399\n",
      "Training until validation scores don't improve for 30 rounds\n",
      "Early stopping, best iteration is:\n",
      "[25]\tvalid's auc: 0.900873\tvalid's binary_logloss: 0.344286\n",
      "Training until validation scores don't improve for 30 rounds\n",
      "Did not meet early stopping. Best iteration is:\n",
      "[4]\tvalid's auc: 0.894241\tvalid's binary_logloss: 0.349494\n",
      "Training until validation scores don't improve for 30 rounds\n",
      "Did not meet early stopping. Best iteration is:\n",
      "[3]\tvalid's auc: 0.891489\tvalid's binary_logloss: 0.365258\n",
      "Training until validation scores don't improve for 30 rounds\n",
      "Did not meet early stopping. Best iteration is:\n",
      "[5]\tvalid's auc: 0.886614\tvalid's binary_logloss: 0.353559\n",
      "Training until validation scores don't improve for 30 rounds\n",
      "Did not meet early stopping. Best iteration is:\n",
      "[9]\tvalid's auc: 0.889959\tvalid's binary_logloss: 0.365455\n",
      "Training until validation scores don't improve for 30 rounds\n",
      "Did not meet early stopping. Best iteration is:\n",
      "[4]\tvalid's auc: 0.887841\tvalid's binary_logloss: 0.355326\n",
      "Training until validation scores don't improve for 30 rounds\n",
      "Early stopping, best iteration is:\n",
      "[4]\tvalid's auc: 0.894241\tvalid's binary_logloss: 0.349494\n",
      "Training until validation scores don't improve for 30 rounds\n",
      "Early stopping, best iteration is:\n",
      "[3]\tvalid's auc: 0.891489\tvalid's binary_logloss: 0.365258\n",
      "Training until validation scores don't improve for 30 rounds\n",
      "Early stopping, best iteration is:\n",
      "[4]\tvalid's auc: 0.88657\tvalid's binary_logloss: 0.353129\n",
      "Training until validation scores don't improve for 30 rounds\n",
      "Early stopping, best iteration is:\n",
      "[4]\tvalid's auc: 0.888897\tvalid's binary_logloss: 0.350134\n",
      "Training until validation scores don't improve for 30 rounds\n",
      "Early stopping, best iteration is:\n",
      "[4]\tvalid's auc: 0.887841\tvalid's binary_logloss: 0.355326\n",
      "Training until validation scores don't improve for 30 rounds\n",
      "Early stopping, best iteration is:\n",
      "[4]\tvalid's auc: 0.894241\tvalid's binary_logloss: 0.349494\n",
      "Training until validation scores don't improve for 30 rounds\n",
      "Early stopping, best iteration is:\n",
      "[3]\tvalid's auc: 0.891489\tvalid's binary_logloss: 0.365258\n",
      "Training until validation scores don't improve for 30 rounds\n",
      "Early stopping, best iteration is:\n",
      "[4]\tvalid's auc: 0.88657\tvalid's binary_logloss: 0.353129\n",
      "Training until validation scores don't improve for 30 rounds\n",
      "Early stopping, best iteration is:\n",
      "[4]\tvalid's auc: 0.888897\tvalid's binary_logloss: 0.350134\n",
      "Training until validation scores don't improve for 30 rounds\n",
      "Early stopping, best iteration is:\n",
      "[4]\tvalid's auc: 0.887841\tvalid's binary_logloss: 0.355326\n",
      "Training until validation scores don't improve for 30 rounds\n",
      "Early stopping, best iteration is:\n",
      "[4]\tvalid's auc: 0.894241\tvalid's binary_logloss: 0.349494\n",
      "Training until validation scores don't improve for 30 rounds\n",
      "Early stopping, best iteration is:\n",
      "[3]\tvalid's auc: 0.891489\tvalid's binary_logloss: 0.365258\n",
      "Training until validation scores don't improve for 30 rounds\n",
      "Early stopping, best iteration is:\n",
      "[4]\tvalid's auc: 0.88657\tvalid's binary_logloss: 0.353129\n",
      "Training until validation scores don't improve for 30 rounds\n",
      "Early stopping, best iteration is:\n",
      "[4]\tvalid's auc: 0.888897\tvalid's binary_logloss: 0.350134\n",
      "Training until validation scores don't improve for 30 rounds\n",
      "Early stopping, best iteration is:\n",
      "[4]\tvalid's auc: 0.887841\tvalid's binary_logloss: 0.355326\n",
      "Training until validation scores don't improve for 30 rounds\n",
      "Did not meet early stopping. Best iteration is:\n",
      "[2]\tvalid's auc: 0.890572\tvalid's binary_logloss: 0.360682\n",
      "Training until validation scores don't improve for 30 rounds\n",
      "Did not meet early stopping. Best iteration is:\n",
      "[2]\tvalid's auc: 0.881894\tvalid's binary_logloss: 0.380298\n",
      "Training until validation scores don't improve for 30 rounds\n",
      "Did not meet early stopping. Best iteration is:\n",
      "[1]\tvalid's auc: 0.877633\tvalid's binary_logloss: 0.371273\n",
      "Training until validation scores don't improve for 30 rounds\n",
      "Did not meet early stopping. Best iteration is:\n",
      "[2]\tvalid's auc: 0.888061\tvalid's binary_logloss: 0.354206\n",
      "Training until validation scores don't improve for 30 rounds\n",
      "Did not meet early stopping. Best iteration is:\n",
      "[1]\tvalid's auc: 0.884003\tvalid's binary_logloss: 0.365203\n",
      "Training until validation scores don't improve for 30 rounds\n",
      "Early stopping, best iteration is:\n",
      "[2]\tvalid's auc: 0.890572\tvalid's binary_logloss: 0.360682\n",
      "Training until validation scores don't improve for 30 rounds\n",
      "Early stopping, best iteration is:\n",
      "[1]\tvalid's auc: 0.879387\tvalid's binary_logloss: 0.363692\n",
      "Training until validation scores don't improve for 30 rounds\n",
      "Early stopping, best iteration is:\n",
      "[1]\tvalid's auc: 0.877633\tvalid's binary_logloss: 0.371273\n",
      "Training until validation scores don't improve for 30 rounds\n",
      "Early stopping, best iteration is:\n",
      "[2]\tvalid's auc: 0.888061\tvalid's binary_logloss: 0.354206\n",
      "Training until validation scores don't improve for 30 rounds\n",
      "Early stopping, best iteration is:\n",
      "[1]\tvalid's auc: 0.884003\tvalid's binary_logloss: 0.365203\n",
      "Training until validation scores don't improve for 30 rounds\n",
      "Early stopping, best iteration is:\n",
      "[2]\tvalid's auc: 0.890572\tvalid's binary_logloss: 0.360682\n",
      "Training until validation scores don't improve for 30 rounds\n"
     ]
    },
    {
     "name": "stdout",
     "output_type": "stream",
     "text": [
      "Early stopping, best iteration is:\n",
      "[1]\tvalid's auc: 0.879387\tvalid's binary_logloss: 0.363692\n",
      "Training until validation scores don't improve for 30 rounds\n",
      "Early stopping, best iteration is:\n",
      "[1]\tvalid's auc: 0.877633\tvalid's binary_logloss: 0.371273\n",
      "Training until validation scores don't improve for 30 rounds\n",
      "Early stopping, best iteration is:\n",
      "[2]\tvalid's auc: 0.888061\tvalid's binary_logloss: 0.354206\n",
      "Training until validation scores don't improve for 30 rounds\n",
      "Early stopping, best iteration is:\n",
      "[1]\tvalid's auc: 0.884003\tvalid's binary_logloss: 0.365203\n",
      "Training until validation scores don't improve for 30 rounds\n",
      "Early stopping, best iteration is:\n",
      "[2]\tvalid's auc: 0.890572\tvalid's binary_logloss: 0.360682\n",
      "Training until validation scores don't improve for 30 rounds\n",
      "Early stopping, best iteration is:\n",
      "[1]\tvalid's auc: 0.879387\tvalid's binary_logloss: 0.363692\n",
      "Training until validation scores don't improve for 30 rounds\n",
      "Early stopping, best iteration is:\n",
      "[1]\tvalid's auc: 0.877633\tvalid's binary_logloss: 0.371273\n",
      "Training until validation scores don't improve for 30 rounds\n",
      "Early stopping, best iteration is:\n",
      "[2]\tvalid's auc: 0.888061\tvalid's binary_logloss: 0.354206\n",
      "Training until validation scores don't improve for 30 rounds\n",
      "Early stopping, best iteration is:\n",
      "[1]\tvalid's auc: 0.884003\tvalid's binary_logloss: 0.365203\n",
      "Training until validation scores don't improve for 30 rounds\n",
      "Did not meet early stopping. Best iteration is:\n",
      "[23]\tvalid's auc: 0.899345\tvalid's binary_logloss: 0.342753\n",
      "elapsed time: 0.1969814936319987 min\n"
     ]
    }
   ],
   "source": [
    "start_time = time.time()\n",
    "lgbm_search_cv.fit(X_train, y_train, **lgbm_fit_params)\n",
    "print(\"elapsed time: {} min\".format((time.time() - start_time) / 60))"
   ]
  },
  {
   "cell_type": "code",
   "execution_count": 161,
   "metadata": {},
   "outputs": [],
   "source": [
    "y_pred_lgbm = lgbm_search_cv.best_estimator_.predict(X_test)"
   ]
  },
  {
   "cell_type": "code",
   "execution_count": 162,
   "metadata": {},
   "outputs": [
    {
     "data": {
      "text/plain": [
       "0.8768414849734826"
      ]
     },
     "execution_count": 162,
     "metadata": {},
     "output_type": "execute_result"
    }
   ],
   "source": [
    "accuracy_score(y_test, y_pred_lgbm)"
   ]
  },
  {
   "cell_type": "markdown",
   "metadata": {},
   "source": [
    "Что ж accuracy относительно неплох и примерно равен accuracy для XGBoost."
   ]
  },
  {
   "cell_type": "markdown",
   "metadata": {},
   "source": [
    "Кроме accuracy вычисляем roc auc."
   ]
  },
  {
   "cell_type": "code",
   "execution_count": 163,
   "metadata": {},
   "outputs": [
    {
     "data": {
      "text/plain": [
       "0.8414080537877296"
      ]
     },
     "execution_count": 163,
     "metadata": {},
     "output_type": "execute_result"
    }
   ],
   "source": [
    "roc_auc_score(y_test, y_pred_lgbm)"
   ]
  },
  {
   "cell_type": "markdown",
   "metadata": {},
   "source": [
    "roc auc относительно неплох."
   ]
  },
  {
   "cell_type": "code",
   "execution_count": 164,
   "metadata": {},
   "outputs": [
    {
     "data": {
      "text/plain": [
       "array([[1072,   59],\n",
       "       [ 150,  416]])"
      ]
     },
     "execution_count": 164,
     "metadata": {},
     "output_type": "execute_result"
    }
   ],
   "source": [
    "confusion_matrix(y_test, y_pred_lgbm)"
   ]
  },
  {
   "cell_type": "markdown",
   "metadata": {},
   "source": [
    "confusion matrix выглядит чуть получше чем у XGBoost."
   ]
  },
  {
   "cell_type": "markdown",
   "metadata": {},
   "source": [
    "Объединяем прдсказания XGBoost и LightGBM (ставим 1 там где хотя бы одна из моделей ставит 1)"
   ]
  },
  {
   "cell_type": "code",
   "execution_count": 165,
   "metadata": {},
   "outputs": [],
   "source": [
    "y_pred_xgb_lgbm = pd.Series(y_pred_xgb).combine(pd.Series(y_pred_lgbm), lambda u, v: u or v, fill_value=1)"
   ]
  },
  {
   "cell_type": "code",
   "execution_count": 166,
   "metadata": {},
   "outputs": [
    {
     "data": {
      "text/plain": [
       "0.8803771361225693"
      ]
     },
     "execution_count": 166,
     "metadata": {},
     "output_type": "execute_result"
    }
   ],
   "source": [
    "accuracy_score(y_test, y_pred_xgb_lgbm)"
   ]
  },
  {
   "cell_type": "code",
   "execution_count": 167,
   "metadata": {},
   "outputs": [
    {
     "data": {
      "text/plain": [
       "0.8489149350304462"
      ]
     },
     "execution_count": 167,
     "metadata": {},
     "output_type": "execute_result"
    }
   ],
   "source": [
    "roc_auc_score(y_test, y_pred_xgb_lgbm)"
   ]
  },
  {
   "cell_type": "code",
   "execution_count": 168,
   "metadata": {},
   "outputs": [
    {
     "data": {
      "text/plain": [
       "array([[1067,   64],\n",
       "       [ 139,  427]])"
      ]
     },
     "execution_count": 168,
     "metadata": {},
     "output_type": "execute_result"
    }
   ],
   "source": [
    "confusion_matrix(y_test, y_pred_xgb_lgbm)"
   ]
  },
  {
   "cell_type": "markdown",
   "metadata": {},
   "source": [
    "Как видим посредством объединения удалось добиться некоторого улучшения."
   ]
  },
  {
   "cell_type": "markdown",
   "metadata": {},
   "source": [
    "Так же небезинтересно было бы посмотреть на кривые обучения. Определяем вспомогательные функции для \"рисования\" соответствующих графиков."
   ]
  },
  {
   "cell_type": "code",
   "execution_count": 169,
   "metadata": {},
   "outputs": [],
   "source": [
    "def plot_learning_curve(train_sizes, train_scores, test_scores, title, alpha=0.1, measure='accuracy'):\n",
    "    train_mean = np.mean(train_scores, axis=1)\n",
    "    train_std = np.std(train_scores, axis=1)\n",
    "    test_mean = np.mean(test_scores, axis=1)\n",
    "    test_std = np.std(test_scores, axis=1)\n",
    "    \n",
    "    plt.plot(train_sizes, train_mean, label='train score', color='blue', marker='o')\n",
    "    \n",
    "    plt.fill_between(\n",
    "        train_sizes,\n",
    "        train_mean + train_std,\n",
    "        train_mean - train_std,\n",
    "        color='blue',\n",
    "        alpha=alpha\n",
    "    )\n",
    "    \n",
    "    plt.plot(\n",
    "        train_sizes,\n",
    "        test_mean,\n",
    "        label='test score',\n",
    "        color='red',\n",
    "        marker='o'\n",
    "    )\n",
    "\n",
    "    plt.fill_between(\n",
    "        train_sizes,\n",
    "        test_mean + test_std,\n",
    "        test_mean - test_std,\n",
    "        color='red',\n",
    "        alpha=alpha\n",
    "    )\n",
    "    \n",
    "    plt.title(title)\n",
    "    plt.xlabel(\"Number of training points\")\n",
    "    plt.ylabel(\"Measure {}\".format(measure))\n",
    "    plt.grid(ls='--')\n",
    "    plt.legend(loc='best')\n",
    "    plt.show()\n",
    "\n",
    "\n",
    "def plot_validation_curve(param_range, train_scores, test_scores, title, alpha=0.1):\n",
    "    param_range = [x[1] for x in param_range] \n",
    "    sort_idx = np.argsort(param_range)\n",
    "    param_range=np.array(param_range)[sort_idx]\n",
    "    train_mean = np.mean(train_scores, axis=1)[sort_idx]\n",
    "    train_std = np.std(train_scores, axis=1)[sort_idx]\n",
    "    test_mean = np.mean(test_scores, axis=1)[sort_idx]\n",
    "    test_std = np.std(test_scores, axis=1)[sort_idx]\n",
    "    plt.plot(param_range, train_mean, label='train score', color='blue', marker='o')\n",
    "    plt.fill_between(\n",
    "        param_range,\n",
    "        train_mean + train_std,\n",
    "        train_mean - train_std,\n",
    "        color='blue',\n",
    "        alpha=alpha\n",
    "    )\n",
    "    plt.plot(param_range, test_mean, label='test score', color='red', marker='o')\n",
    "    plt.fill_between(param_range, test_mean + test_std, test_mean - test_std, color='red', alpha=alpha)\n",
    "    plt.title(title)\n",
    "    plt.grid(ls='--')\n",
    "    plt.xlabel('Weight of class 2')\n",
    "    plt.ylabel('Average values and standard deviation for F1-Score')\n",
    "    plt.legend(loc='best')\n",
    "    plt.show()"
   ]
  },
  {
   "cell_type": "code",
   "execution_count": 170,
   "metadata": {},
   "outputs": [
    {
     "data": {
      "text/plain": [
       "<Figure size 648x432 with 0 Axes>"
      ]
     },
     "execution_count": 170,
     "metadata": {},
     "output_type": "execute_result"
    },
    {
     "data": {
      "text/plain": [
       "<Figure size 648x432 with 0 Axes>"
      ]
     },
     "metadata": {},
     "output_type": "display_data"
    }
   ],
   "source": [
    "plt.figure(figsize=(9, 6))"
   ]
  },
  {
   "cell_type": "code",
   "execution_count": 171,
   "metadata": {},
   "outputs": [],
   "source": [
    "cv = KFold(n_splits=5, random_state=42)"
   ]
  },
  {
   "cell_type": "code",
   "execution_count": 172,
   "metadata": {},
   "outputs": [],
   "source": [
    "xgb_train_sizes, xgb_train_scores, xgb_test_scores = learning_curve(\n",
    "    estimator=xgb_search_cv.best_estimator_,\n",
    "    X=X_train,\n",
    "    y=y_train,\n",
    "    train_sizes=np.arange(0.1, 1.1, 0.1),\n",
    "    cv=cv,\n",
    "    scoring='accuracy',\n",
    "    n_jobs= 4\n",
    ")"
   ]
  },
  {
   "cell_type": "code",
   "execution_count": 173,
   "metadata": {},
   "outputs": [
    {
     "data": {
      "image/png": "[encoded data removed]",
      "text/plain": [
       "<Figure size 432x288 with 1 Axes>"
      ]
     },
     "metadata": {},
     "output_type": "display_data"
    }
   ],
   "source": [
    "plot_learning_curve(\n",
    "    xgb_train_sizes,\n",
    "    xgb_train_scores,\n",
    "    xgb_test_scores,\n",
    "    title='Learning curve for XGBoost'\n",
    ")"
   ]
  },
  {
   "cell_type": "code",
   "execution_count": 174,
   "metadata": {},
   "outputs": [],
   "source": [
    "lgbm_train_sizes, lgbm_train_scores, lgbm_test_scores = learning_curve(\n",
    "    estimator=lgbm_search_cv.best_estimator_,\n",
    "    X=X_train,\n",
    "    y=y_train,\n",
    "    train_sizes=np.arange(0.1, 1.1, 0.1),\n",
    "    cv=cv,\n",
    "    scoring='roc_auc',\n",
    "    n_jobs= 4\n",
    ")"
   ]
  },
  {
   "cell_type": "code",
   "execution_count": 246,
   "metadata": {},
   "outputs": [
    {
     "data": {
      "image/png": "[encoded data removed]",
      "text/plain": [
       "<Figure size 432x288 with 1 Axes>"
      ]
     },
     "metadata": {},
     "output_type": "display_data"
    }
   ],
   "source": [
    "plot_learning_curve(\n",
    "    lgbm_train_sizes,\n",
    "    lgbm_train_scores,\n",
    "    lgbm_test_scores,\n",
    "    title=\"Learning curve for LightGBM\",\n",
    "    measure=\"roc_auc\"\n",
    ")"
   ]
  },
  {
   "cell_type": "markdown",
   "metadata": {},
   "source": [
    "Как видим, кривые обучения пока далеки от совершенства."
   ]
  },
  {
   "cell_type": "markdown",
   "metadata": {},
   "source": [
    "Этот Jupyter notebook всего лишь prof of concepts.\n",
    "В дальнейшем, используя более изощрённые методы борьбы с перекошенностью данных (сложные алгоритмы выбора, либо построения дополнитель точек отказа), используя более сложные модели (Neural Networks различных видов) и более тонко настраивая их скорее всего можно будет добиться очень сильного уменьшения ложных предсказаний/\"непредсказаний\" и увеличения правильных предсказаний.\n",
    "Так же имеет смысл рассмотреть эту задачу как anomaly detection задачу."
   ]
  },
  {
   "cell_type": "code",
   "execution_count": 288,
   "metadata": {},
   "outputs": [
    {
     "data": {
      "text/plain": [
       "['date',\n",
       " 'serial_number',\n",
       " 'model',\n",
       " 'failure',\n",
       " 'capacity_bytes',\n",
       " 'smart_1_normalized',\n",
       " 'smart_1_raw',\n",
       " 'smart_3_normalized',\n",
       " 'smart_3_raw',\n",
       " 'smart_4_normalized',\n",
       " 'smart_4_raw',\n",
       " 'smart_5_normalized',\n",
       " 'smart_5_raw',\n",
       " 'smart_7_normalized',\n",
       " 'smart_7_raw',\n",
       " 'smart_9_normalized',\n",
       " 'smart_9_raw',\n",
       " 'smart_10_normalized',\n",
       " 'smart_10_raw',\n",
       " 'smart_12_normalized',\n",
       " 'smart_12_raw',\n",
       " 'smart_187_normalized',\n",
       " 'smart_187_raw',\n",
       " 'smart_188_normalized',\n",
       " 'smart_188_raw',\n",
       " 'smart_190_normalized',\n",
       " 'smart_190_raw',\n",
       " 'smart_192_normalized',\n",
       " 'smart_192_raw',\n",
       " 'smart_193_normalized',\n",
       " 'smart_193_raw',\n",
       " 'smart_194_normalized',\n",
       " 'smart_194_raw',\n",
       " 'smart_195_normalized',\n",
       " 'smart_195_raw',\n",
       " 'smart_197_normalized',\n",
       " 'smart_197_raw',\n",
       " 'smart_198_normalized',\n",
       " 'smart_198_raw',\n",
       " 'smart_199_normalized',\n",
       " 'smart_199_raw',\n",
       " 'smart_240_normalized',\n",
       " 'smart_240_raw',\n",
       " 'smart_241_normalized',\n",
       " 'smart_241_raw',\n",
       " 'smart_242_normalized',\n",
       " 'smart_242_raw']"
      ]
     },
     "execution_count": 288,
     "metadata": {},
     "output_type": "execute_result"
    }
   ],
   "source": [
    "data_df.columns.to_list()"
   ]
  },
  {
   "cell_type": "code",
   "execution_count": 290,
   "metadata": {},
   "outputs": [],
   "source": [
    "data_df.head(10).to_json('smart_short_0.json')"
   ]
  },
  {
   "cell_type": "code",
   "execution_count": 446,
   "metadata": {},
   "outputs": [
    {
     "data": {
      "text/html": [
       "<div>\n",
       "<style scoped>\n",
       "    .dataframe tbody tr th:only-of-type {\n",
       "        vertical-align: middle;\n",
       "    }\n",
       "\n",
       "    .dataframe tbody tr th {\n",
       "        vertical-align: top;\n",
       "    }\n",
       "\n",
       "    .dataframe thead th {\n",
       "        text-align: right;\n",
       "    }\n",
       "</style>\n",
       "<table border=\"1\" class=\"dataframe\">\n",
       "  <thead>\n",
       "    <tr style=\"text-align: right;\">\n",
       "      <th></th>\n",
       "      <th>date</th>\n",
       "      <th>serial_number</th>\n",
       "      <th>model</th>\n",
       "      <th>failure</th>\n",
       "      <th>capacity_bytes</th>\n",
       "      <th>smart_1_normalized</th>\n",
       "      <th>smart_1_raw</th>\n",
       "      <th>smart_3_normalized</th>\n",
       "      <th>smart_3_raw</th>\n",
       "      <th>smart_4_normalized</th>\n",
       "      <th>...</th>\n",
       "      <th>smart_198_normalized</th>\n",
       "      <th>smart_198_raw</th>\n",
       "      <th>smart_199_normalized</th>\n",
       "      <th>smart_199_raw</th>\n",
       "      <th>smart_240_normalized</th>\n",
       "      <th>smart_240_raw</th>\n",
       "      <th>smart_241_normalized</th>\n",
       "      <th>smart_241_raw</th>\n",
       "      <th>smart_242_normalized</th>\n",
       "      <th>smart_242_raw</th>\n",
       "    </tr>\n",
       "  </thead>\n",
       "  <tbody>\n",
       "    <tr>\n",
       "      <th>0</th>\n",
       "      <td>2019-01-01</td>\n",
       "      <td>Z305B2QN</td>\n",
       "      <td>ST4000DM000</td>\n",
       "      <td>0</td>\n",
       "      <td>4000787030016</td>\n",
       "      <td>111.0</td>\n",
       "      <td>35673128.0</td>\n",
       "      <td>91.0</td>\n",
       "      <td>0.0</td>\n",
       "      <td>100.0</td>\n",
       "      <td>...</td>\n",
       "      <td>100.0</td>\n",
       "      <td>0.0</td>\n",
       "      <td>200.0</td>\n",
       "      <td>0.0</td>\n",
       "      <td>100.0</td>\n",
       "      <td>26461.0</td>\n",
       "      <td>100.0</td>\n",
       "      <td>4.553972e+10</td>\n",
       "      <td>100.0</td>\n",
       "      <td>1.183566e+11</td>\n",
       "    </tr>\n",
       "    <tr>\n",
       "      <th>1</th>\n",
       "      <td>2019-01-01</td>\n",
       "      <td>ZJV0XJQ4</td>\n",
       "      <td>ST12000NM0007</td>\n",
       "      <td>0</td>\n",
       "      <td>12000138625024</td>\n",
       "      <td>83.0</td>\n",
       "      <td>187116872.0</td>\n",
       "      <td>98.0</td>\n",
       "      <td>0.0</td>\n",
       "      <td>100.0</td>\n",
       "      <td>...</td>\n",
       "      <td>100.0</td>\n",
       "      <td>0.0</td>\n",
       "      <td>200.0</td>\n",
       "      <td>0.0</td>\n",
       "      <td>100.0</td>\n",
       "      <td>3020.0</td>\n",
       "      <td>100.0</td>\n",
       "      <td>2.887057e+10</td>\n",
       "      <td>100.0</td>\n",
       "      <td>2.160959e+10</td>\n",
       "    </tr>\n",
       "    <tr>\n",
       "      <th>2</th>\n",
       "      <td>2019-01-01</td>\n",
       "      <td>ZJV0XJQ3</td>\n",
       "      <td>ST12000NM0007</td>\n",
       "      <td>0</td>\n",
       "      <td>12000138625024</td>\n",
       "      <td>73.0</td>\n",
       "      <td>19599104.0</td>\n",
       "      <td>99.0</td>\n",
       "      <td>0.0</td>\n",
       "      <td>100.0</td>\n",
       "      <td>...</td>\n",
       "      <td>100.0</td>\n",
       "      <td>0.0</td>\n",
       "      <td>200.0</td>\n",
       "      <td>0.0</td>\n",
       "      <td>100.0</td>\n",
       "      <td>670.0</td>\n",
       "      <td>100.0</td>\n",
       "      <td>6.111459e+09</td>\n",
       "      <td>100.0</td>\n",
       "      <td>7.441231e+08</td>\n",
       "    </tr>\n",
       "    <tr>\n",
       "      <th>3</th>\n",
       "      <td>2019-01-01</td>\n",
       "      <td>ZJV0XJQ0</td>\n",
       "      <td>ST12000NM0007</td>\n",
       "      <td>0</td>\n",
       "      <td>12000138625024</td>\n",
       "      <td>81.0</td>\n",
       "      <td>136943696.0</td>\n",
       "      <td>93.0</td>\n",
       "      <td>0.0</td>\n",
       "      <td>100.0</td>\n",
       "      <td>...</td>\n",
       "      <td>100.0</td>\n",
       "      <td>0.0</td>\n",
       "      <td>200.0</td>\n",
       "      <td>0.0</td>\n",
       "      <td>100.0</td>\n",
       "      <td>4166.0</td>\n",
       "      <td>100.0</td>\n",
       "      <td>3.350759e+10</td>\n",
       "      <td>100.0</td>\n",
       "      <td>3.938334e+10</td>\n",
       "    </tr>\n",
       "    <tr>\n",
       "      <th>4</th>\n",
       "      <td>2019-01-01</td>\n",
       "      <td>PL1331LAHG1S4H</td>\n",
       "      <td>HGST HMS5C4040ALE640</td>\n",
       "      <td>0</td>\n",
       "      <td>4000787030016</td>\n",
       "      <td>100.0</td>\n",
       "      <td>0.0</td>\n",
       "      <td>100.0</td>\n",
       "      <td>436.0</td>\n",
       "      <td>100.0</td>\n",
       "      <td>...</td>\n",
       "      <td>100.0</td>\n",
       "      <td>0.0</td>\n",
       "      <td>200.0</td>\n",
       "      <td>0.0</td>\n",
       "      <td>NaN</td>\n",
       "      <td>NaN</td>\n",
       "      <td>NaN</td>\n",
       "      <td>NaN</td>\n",
       "      <td>NaN</td>\n",
       "      <td>NaN</td>\n",
       "    </tr>\n",
       "    <tr>\n",
       "      <th>5</th>\n",
       "      <td>2019-01-01</td>\n",
       "      <td>ZA16NQJR</td>\n",
       "      <td>ST8000NM0055</td>\n",
       "      <td>0</td>\n",
       "      <td>8001563222016</td>\n",
       "      <td>83.0</td>\n",
       "      <td>203857808.0</td>\n",
       "      <td>92.0</td>\n",
       "      <td>0.0</td>\n",
       "      <td>100.0</td>\n",
       "      <td>...</td>\n",
       "      <td>100.0</td>\n",
       "      <td>0.0</td>\n",
       "      <td>200.0</td>\n",
       "      <td>0.0</td>\n",
       "      <td>100.0</td>\n",
       "      <td>14652.0</td>\n",
       "      <td>100.0</td>\n",
       "      <td>4.771906e+10</td>\n",
       "      <td>100.0</td>\n",
       "      <td>9.485711e+10</td>\n",
       "    </tr>\n",
       "    <tr>\n",
       "      <th>6</th>\n",
       "      <td>2019-01-01</td>\n",
       "      <td>ZJV02XWG</td>\n",
       "      <td>ST12000NM0007</td>\n",
       "      <td>0</td>\n",
       "      <td>12000138625024</td>\n",
       "      <td>81.0</td>\n",
       "      <td>116523736.0</td>\n",
       "      <td>92.0</td>\n",
       "      <td>0.0</td>\n",
       "      <td>100.0</td>\n",
       "      <td>...</td>\n",
       "      <td>100.0</td>\n",
       "      <td>0.0</td>\n",
       "      <td>200.0</td>\n",
       "      <td>0.0</td>\n",
       "      <td>100.0</td>\n",
       "      <td>5512.0</td>\n",
       "      <td>100.0</td>\n",
       "      <td>3.504775e+10</td>\n",
       "      <td>100.0</td>\n",
       "      <td>4.612356e+10</td>\n",
       "    </tr>\n",
       "    <tr>\n",
       "      <th>7</th>\n",
       "      <td>2019-01-01</td>\n",
       "      <td>ZJV1CSVX</td>\n",
       "      <td>ST12000NM0007</td>\n",
       "      <td>0</td>\n",
       "      <td>12000138625024</td>\n",
       "      <td>82.0</td>\n",
       "      <td>171431192.0</td>\n",
       "      <td>98.0</td>\n",
       "      <td>0.0</td>\n",
       "      <td>100.0</td>\n",
       "      <td>...</td>\n",
       "      <td>100.0</td>\n",
       "      <td>0.0</td>\n",
       "      <td>200.0</td>\n",
       "      <td>0.0</td>\n",
       "      <td>100.0</td>\n",
       "      <td>3949.0</td>\n",
       "      <td>100.0</td>\n",
       "      <td>3.536406e+10</td>\n",
       "      <td>100.0</td>\n",
       "      <td>4.122348e+10</td>\n",
       "    </tr>\n",
       "    <tr>\n",
       "      <th>8</th>\n",
       "      <td>2019-01-01</td>\n",
       "      <td>ZJV02XWA</td>\n",
       "      <td>ST12000NM0007</td>\n",
       "      <td>0</td>\n",
       "      <td>12000138625024</td>\n",
       "      <td>84.0</td>\n",
       "      <td>241650824.0</td>\n",
       "      <td>97.0</td>\n",
       "      <td>0.0</td>\n",
       "      <td>100.0</td>\n",
       "      <td>...</td>\n",
       "      <td>100.0</td>\n",
       "      <td>0.0</td>\n",
       "      <td>200.0</td>\n",
       "      <td>0.0</td>\n",
       "      <td>100.0</td>\n",
       "      <td>5631.0</td>\n",
       "      <td>100.0</td>\n",
       "      <td>4.126671e+10</td>\n",
       "      <td>100.0</td>\n",
       "      <td>5.614299e+10</td>\n",
       "    </tr>\n",
       "    <tr>\n",
       "      <th>9</th>\n",
       "      <td>2019-01-01</td>\n",
       "      <td>ZA18CEBS</td>\n",
       "      <td>ST8000NM0055</td>\n",
       "      <td>0</td>\n",
       "      <td>8001563222016</td>\n",
       "      <td>82.0</td>\n",
       "      <td>177605672.0</td>\n",
       "      <td>97.0</td>\n",
       "      <td>0.0</td>\n",
       "      <td>100.0</td>\n",
       "      <td>...</td>\n",
       "      <td>100.0</td>\n",
       "      <td>0.0</td>\n",
       "      <td>200.0</td>\n",
       "      <td>0.0</td>\n",
       "      <td>100.0</td>\n",
       "      <td>11625.0</td>\n",
       "      <td>100.0</td>\n",
       "      <td>4.124180e+10</td>\n",
       "      <td>100.0</td>\n",
       "      <td>8.541220e+10</td>\n",
       "    </tr>\n",
       "  </tbody>\n",
       "</table>\n",
       "<p>10 rows × 47 columns</p>\n",
       "</div>"
      ],
      "text/plain": [
       "         date   serial_number                 model  failure  capacity_bytes  \\\n",
       "0  2019-01-01        Z305B2QN           ST4000DM000        0   4000787030016   \n",
       "1  2019-01-01        ZJV0XJQ4         ST12000NM0007        0  12000138625024   \n",
       "2  2019-01-01        ZJV0XJQ3         ST12000NM0007        0  12000138625024   \n",
       "3  2019-01-01        ZJV0XJQ0         ST12000NM0007        0  12000138625024   \n",
       "4  2019-01-01  PL1331LAHG1S4H  HGST HMS5C4040ALE640        0   4000787030016   \n",
       "5  2019-01-01        ZA16NQJR          ST8000NM0055        0   8001563222016   \n",
       "6  2019-01-01        ZJV02XWG         ST12000NM0007        0  12000138625024   \n",
       "7  2019-01-01        ZJV1CSVX         ST12000NM0007        0  12000138625024   \n",
       "8  2019-01-01        ZJV02XWA         ST12000NM0007        0  12000138625024   \n",
       "9  2019-01-01        ZA18CEBS          ST8000NM0055        0   8001563222016   \n",
       "\n",
       "   smart_1_normalized  smart_1_raw  smart_3_normalized  smart_3_raw  \\\n",
       "0               111.0   35673128.0                91.0          0.0   \n",
       "1                83.0  187116872.0                98.0          0.0   \n",
       "2                73.0   19599104.0                99.0          0.0   \n",
       "3                81.0  136943696.0                93.0          0.0   \n",
       "4               100.0          0.0               100.0        436.0   \n",
       "5                83.0  203857808.0                92.0          0.0   \n",
       "6                81.0  116523736.0                92.0          0.0   \n",
       "7                82.0  171431192.0                98.0          0.0   \n",
       "8                84.0  241650824.0                97.0          0.0   \n",
       "9                82.0  177605672.0                97.0          0.0   \n",
       "\n",
       "   smart_4_normalized  ...  smart_198_normalized  smart_198_raw  \\\n",
       "0               100.0  ...                 100.0            0.0   \n",
       "1               100.0  ...                 100.0            0.0   \n",
       "2               100.0  ...                 100.0            0.0   \n",
       "3               100.0  ...                 100.0            0.0   \n",
       "4               100.0  ...                 100.0            0.0   \n",
       "5               100.0  ...                 100.0            0.0   \n",
       "6               100.0  ...                 100.0            0.0   \n",
       "7               100.0  ...                 100.0            0.0   \n",
       "8               100.0  ...                 100.0            0.0   \n",
       "9               100.0  ...                 100.0            0.0   \n",
       "\n",
       "   smart_199_normalized  smart_199_raw  smart_240_normalized  smart_240_raw  \\\n",
       "0                 200.0            0.0                 100.0        26461.0   \n",
       "1                 200.0            0.0                 100.0         3020.0   \n",
       "2                 200.0            0.0                 100.0          670.0   \n",
       "3                 200.0            0.0                 100.0         4166.0   \n",
       "4                 200.0            0.0                   NaN            NaN   \n",
       "5                 200.0            0.0                 100.0        14652.0   \n",
       "6                 200.0            0.0                 100.0         5512.0   \n",
       "7                 200.0            0.0                 100.0         3949.0   \n",
       "8                 200.0            0.0                 100.0         5631.0   \n",
       "9                 200.0            0.0                 100.0        11625.0   \n",
       "\n",
       "   smart_241_normalized  smart_241_raw  smart_242_normalized  smart_242_raw  \n",
       "0                 100.0   4.553972e+10                 100.0   1.183566e+11  \n",
       "1                 100.0   2.887057e+10                 100.0   2.160959e+10  \n",
       "2                 100.0   6.111459e+09                 100.0   7.441231e+08  \n",
       "3                 100.0   3.350759e+10                 100.0   3.938334e+10  \n",
       "4                   NaN            NaN                   NaN            NaN  \n",
       "5                 100.0   4.771906e+10                 100.0   9.485711e+10  \n",
       "6                 100.0   3.504775e+10                 100.0   4.612356e+10  \n",
       "7                 100.0   3.536406e+10                 100.0   4.122348e+10  \n",
       "8                 100.0   4.126671e+10                 100.0   5.614299e+10  \n",
       "9                 100.0   4.124180e+10                 100.0   8.541220e+10  \n",
       "\n",
       "[10 rows x 47 columns]"
      ]
     },
     "execution_count": 446,
     "metadata": {},
     "output_type": "execute_result"
    }
   ],
   "source": [
    "data_df.head(10)"
   ]
  },
  {
   "cell_type": "code",
   "execution_count": 291,
   "metadata": {},
   "outputs": [
    {
     "data": {
      "text/plain": [
       "{'memory': None,\n",
       " 'steps': [('xgb',\n",
       "   XGBClassifier(base_score=0.5, booster='gbtree', colsample_bylevel=1,\n",
       "                 colsample_bynode=1, colsample_bytree=1, gamma=0,\n",
       "                 learning_rate=0.5, max_delta_step=0, max_depth=3,\n",
       "                 min_child_weight=1, missing=None, n_estimators=50, n_jobs=1,\n",
       "                 nthread=None, objective='binary:logistic', random_state=0,\n",
       "                 reg_alpha=0, reg_lambda=1, scale_pos_weight=1, seed=None,\n",
       "                 silent=None, subsample=1, verbosity=1))],\n",
       " 'verbose': False,\n",
       " 'xgb': XGBClassifier(base_score=0.5, booster='gbtree', colsample_bylevel=1,\n",
       "               colsample_bynode=1, colsample_bytree=1, gamma=0,\n",
       "               learning_rate=0.5, max_delta_step=0, max_depth=3,\n",
       "               min_child_weight=1, missing=None, n_estimators=50, n_jobs=1,\n",
       "               nthread=None, objective='binary:logistic', random_state=0,\n",
       "               reg_alpha=0, reg_lambda=1, scale_pos_weight=1, seed=None,\n",
       "               silent=None, subsample=1, verbosity=1),\n",
       " 'xgb__base_score': 0.5,\n",
       " 'xgb__booster': 'gbtree',\n",
       " 'xgb__colsample_bylevel': 1,\n",
       " 'xgb__colsample_bynode': 1,\n",
       " 'xgb__colsample_bytree': 1,\n",
       " 'xgb__gamma': 0,\n",
       " 'xgb__learning_rate': 0.5,\n",
       " 'xgb__max_delta_step': 0,\n",
       " 'xgb__max_depth': 3,\n",
       " 'xgb__min_child_weight': 1,\n",
       " 'xgb__missing': None,\n",
       " 'xgb__n_estimators': 50,\n",
       " 'xgb__n_jobs': 1,\n",
       " 'xgb__nthread': None,\n",
       " 'xgb__objective': 'binary:logistic',\n",
       " 'xgb__random_state': 0,\n",
       " 'xgb__reg_alpha': 0,\n",
       " 'xgb__reg_lambda': 1,\n",
       " 'xgb__scale_pos_weight': 1,\n",
       " 'xgb__seed': None,\n",
       " 'xgb__silent': None,\n",
       " 'xgb__subsample': 1,\n",
       " 'xgb__verbosity': 1}"
      ]
     },
     "execution_count": 291,
     "metadata": {},
     "output_type": "execute_result"
    }
   ],
   "source": [
    "xgb_search_cv.best_estimator_"
   ]
  },
  {
   "cell_type": "code",
   "execution_count": 292,
   "metadata": {},
   "outputs": [
    {
     "data": {
      "text/plain": [
       "{'memory': None,\n",
       " 'steps': [('lgbm',\n",
       "   LGBMClassifier(boosting_type='gbdt', class_weight=None, colsample_bytree=1.0,\n",
       "                  importance_type='split', learning_rate=0.1, max_depth=-1,\n",
       "                  min_child_samples=20, min_child_weight=0.001, min_split_gain=0.0,\n",
       "                  n_estimators=50, n_jobs=-1, num_leaves=31, objective=None,\n",
       "                  random_state=None, reg_alpha=0.0, reg_lambda=0.0, silent=True,\n",
       "                  subsample=1.0, subsample_for_bin=200000, subsample_freq=0))],\n",
       " 'verbose': False,\n",
       " 'lgbm': LGBMClassifier(boosting_type='gbdt', class_weight=None, colsample_bytree=1.0,\n",
       "                importance_type='split', learning_rate=0.1, max_depth=-1,\n",
       "                min_child_samples=20, min_child_weight=0.001, min_split_gain=0.0,\n",
       "                n_estimators=50, n_jobs=-1, num_leaves=31, objective=None,\n",
       "                random_state=None, reg_alpha=0.0, reg_lambda=0.0, silent=True,\n",
       "                subsample=1.0, subsample_for_bin=200000, subsample_freq=0),\n",
       " 'lgbm__boosting_type': 'gbdt',\n",
       " 'lgbm__class_weight': None,\n",
       " 'lgbm__colsample_bytree': 1.0,\n",
       " 'lgbm__importance_type': 'split',\n",
       " 'lgbm__learning_rate': 0.1,\n",
       " 'lgbm__max_depth': -1,\n",
       " 'lgbm__min_child_samples': 20,\n",
       " 'lgbm__min_child_weight': 0.001,\n",
       " 'lgbm__min_split_gain': 0.0,\n",
       " 'lgbm__n_estimators': 50,\n",
       " 'lgbm__n_jobs': -1,\n",
       " 'lgbm__num_leaves': 31,\n",
       " 'lgbm__objective': None,\n",
       " 'lgbm__random_state': None,\n",
       " 'lgbm__reg_alpha': 0.0,\n",
       " 'lgbm__reg_lambda': 0.0,\n",
       " 'lgbm__silent': True,\n",
       " 'lgbm__subsample': 1.0,\n",
       " 'lgbm__subsample_for_bin': 200000,\n",
       " 'lgbm__subsample_freq': 0}"
      ]
     },
     "execution_count": 292,
     "metadata": {},
     "output_type": "execute_result"
    }
   ],
   "source": [
    "lgbm_search_cv.best_estimator_.get_params()"
   ]
  },
  {
   "cell_type": "code",
   "execution_count": 313,
   "metadata": {},
   "outputs": [],
   "source": [
    "xgb_params = {\n",
    "    #'base_score': 0.5,\n",
    "    'booster': 'gbtree',\n",
    "    #'colsample_bylevel': 1,\n",
    "    #'colsample_bynode': 1,\n",
    "    #'colsample_bytree': 1,\n",
    "    #'gamma': 0,\n",
    "    'eval_set': [(X_test.values, y_test.values)],\n",
    "    'learning_rate': 0.5,\n",
    "    'max_delta_step': 0,\n",
    "    #'max_depth': 3,\n",
    "    'min_child_weight': 1,\n",
    "    'missing': None,\n",
    "    'n_estimators': 50,\n",
    "    'n_jobs': 1,\n",
    "    'nthread': None,\n",
    "    'objective': 'binary:logistic',\n",
    "    'random_state': 0,\n",
    "    'reg_alpha': 0,\n",
    "    'reg_lambda': 1,\n",
    "    'scale_pos_weight': 1,\n",
    "    'seed': None,\n",
    "    'silent': None,\n",
    "    'subsample': 1,\n",
    "    'verbosity': 1\n",
    "}"
   ]
  },
  {
   "cell_type": "code",
   "execution_count": 318,
   "metadata": {},
   "outputs": [],
   "source": [
    "#xgb_clf = XGBClassifier(xgb_params)"
   ]
  },
  {
   "cell_type": "code",
   "execution_count": 319,
   "metadata": {},
   "outputs": [],
   "source": [
    "#xgb_clf_boost = xgb_clf.fit(X_train.values, y_train.values)"
   ]
  },
  {
   "cell_type": "code",
   "execution_count": 301,
   "metadata": {},
   "outputs": [
    {
     "data": {
      "text/plain": [
       "pandas.core.frame.DataFrame"
      ]
     },
     "execution_count": 301,
     "metadata": {},
     "output_type": "execute_result"
    }
   ],
   "source": [
    "type(X_train)"
   ]
  },
  {
   "cell_type": "code",
   "execution_count": 303,
   "metadata": {},
   "outputs": [
    {
     "data": {
      "text/plain": [
       "['smart_3_normalized',\n",
       " 'smart_3_raw',\n",
       " 'smart_4_normalized',\n",
       " 'smart_4_raw',\n",
       " 'smart_5_normalized',\n",
       " 'smart_5_raw',\n",
       " 'smart_7_normalized',\n",
       " 'smart_7_raw',\n",
       " 'smart_9_normalized',\n",
       " 'smart_9_raw',\n",
       " 'smart_10_normalized',\n",
       " 'smart_10_raw',\n",
       " 'smart_12_normalized',\n",
       " 'smart_12_raw',\n",
       " 'smart_187_normalized',\n",
       " 'smart_187_raw',\n",
       " 'smart_188_normalized',\n",
       " 'smart_188_raw',\n",
       " 'smart_190_normalized',\n",
       " 'smart_190_raw',\n",
       " 'smart_192_normalized',\n",
       " 'smart_192_raw',\n",
       " 'smart_193_normalized',\n",
       " 'smart_193_raw',\n",
       " 'smart_194_normalized',\n",
       " 'smart_194_raw',\n",
       " 'smart_195_normalized',\n",
       " 'smart_195_raw',\n",
       " 'smart_197_normalized',\n",
       " 'smart_197_raw',\n",
       " 'smart_198_normalized',\n",
       " 'smart_198_raw',\n",
       " 'smart_199_normalized',\n",
       " 'smart_199_raw',\n",
       " 'smart_240_normalized',\n",
       " 'smart_240_raw',\n",
       " 'smart_241_normalized',\n",
       " 'smart_241_raw',\n",
       " 'smart_242_normalized',\n",
       " 'smart_242_raw']"
      ]
     },
     "execution_count": 303,
     "metadata": {},
     "output_type": "execute_result"
    }
   ],
   "source": [
    "X_train.columns.to_list()"
   ]
  },
  {
   "cell_type": "code",
   "execution_count": 304,
   "metadata": {},
   "outputs": [
    {
     "data": {
      "text/plain": [
       "pandas.core.series.Series"
      ]
     },
     "execution_count": 304,
     "metadata": {},
     "output_type": "execute_result"
    }
   ],
   "source": [
    "type(y_train)"
   ]
  },
  {
   "cell_type": "code",
   "execution_count": 305,
   "metadata": {},
   "outputs": [
    {
     "data": {
      "text/plain": [
       "0    0\n",
       "1    0\n",
       "2    1\n",
       "3    0\n",
       "4    0\n",
       "Name: failure, dtype: int8"
      ]
     },
     "execution_count": 305,
     "metadata": {},
     "output_type": "execute_result"
    }
   ],
   "source": [
    "y_train.head()"
   ]
  },
  {
   "cell_type": "code",
   "execution_count": 421,
   "metadata": {},
   "outputs": [],
   "source": [
    "xgb_clf = XGBClassifier(\n",
    "    base_score=0.5,\n",
    "    booster='gbtree',\n",
    "    colsample_bylevel=1,\n",
    "    colsample_bynode=1,\n",
    "    colsample_bytree=1,\n",
    "    gamma=0,\n",
    "    learning_rate=0.5,\n",
    "    max_delta_step=0,\n",
    "    max_depth=3,\n",
    "    min_child_weight=1,\n",
    "    missing=None,\n",
    "    n_estimators=50,\n",
    "    n_jobs=1,\n",
    "    nthread=None,\n",
    "    objective='binary:logistic',\n",
    "    random_state=0,\n",
    "    reg_alpha=0,\n",
    "    reg_lambda=1,\n",
    "    scale_pos_weight=1,\n",
    "    seed=None,\n",
    "    silent=None,\n",
    "    subsample=1,\n",
    "    verbosity=3,\n",
    "    #eval_set=[(X_test.values, y_test.values)]\n",
    "    early_stopping_rounds=10,\n",
    "    eval_set=[(X_test, y_test)],\n",
    "    #eval_metric='roc_auc'\n",
    ")"
   ]
  },
  {
   "cell_type": "code",
   "execution_count": 422,
   "metadata": {},
   "outputs": [
    {
     "name": "stdout",
     "output_type": "stream",
     "text": [
      "[18:32:00] INFO: /home/conda/feedstock_root/build_artifacts/xgboost_1572314959925/work/src/tree/updater_prune.cc:74: tree pruning end, 1 roots, 14 extra nodes, 0 pruned nodes, max_depth=3\n",
      "[18:32:00] INFO: /home/conda/feedstock_root/build_artifacts/xgboost_1572314959925/work/src/tree/updater_prune.cc:74: tree pruning end, 1 roots, 14 extra nodes, 0 pruned nodes, max_depth=3\n",
      "[18:32:00] INFO: /home/conda/feedstock_root/build_artifacts/xgboost_1572314959925/work/src/tree/updater_prune.cc:74: tree pruning end, 1 roots, 14 extra nodes, 0 pruned nodes, max_depth=3\n",
      "[18:32:00] INFO: /home/conda/feedstock_root/build_artifacts/xgboost_1572314959925/work/src/tree/updater_prune.cc:74: tree pruning end, 1 roots, 12 extra nodes, 0 pruned nodes, max_depth=3\n",
      "[18:32:00] INFO: /home/conda/feedstock_root/build_artifacts/xgboost_1572314959925/work/src/tree/updater_prune.cc:74: tree pruning end, 1 roots, 12 extra nodes, 0 pruned nodes, max_depth=3\n",
      "[18:32:00] INFO: /home/conda/feedstock_root/build_artifacts/xgboost_1572314959925/work/src/tree/updater_prune.cc:74: tree pruning end, 1 roots, 12 extra nodes, 0 pruned nodes, max_depth=3\n",
      "[18:32:00] INFO: /home/conda/feedstock_root/build_artifacts/xgboost_1572314959925/work/src/tree/updater_prune.cc:74: tree pruning end, 1 roots, 14 extra nodes, 0 pruned nodes, max_depth=3\n",
      "[18:32:00] INFO: /home/conda/feedstock_root/build_artifacts/xgboost_1572314959925/work/src/tree/updater_prune.cc:74: tree pruning end, 1 roots, 14 extra nodes, 0 pruned nodes, max_depth=3\n",
      "[18:32:00] INFO: /home/conda/feedstock_root/build_artifacts/xgboost_1572314959925/work/src/tree/updater_prune.cc:74: tree pruning end, 1 roots, 14 extra nodes, 0 pruned nodes, max_depth=3\n",
      "[18:32:00] INFO: /home/conda/feedstock_root/build_artifacts/xgboost_1572314959925/work/src/tree/updater_prune.cc:74: tree pruning end, 1 roots, 10 extra nodes, 0 pruned nodes, max_depth=3\n",
      "[18:32:00] INFO: /home/conda/feedstock_root/build_artifacts/xgboost_1572314959925/work/src/tree/updater_prune.cc:74: tree pruning end, 1 roots, 12 extra nodes, 0 pruned nodes, max_depth=3\n",
      "[18:32:00] INFO: /home/conda/feedstock_root/build_artifacts/xgboost_1572314959925/work/src/tree/updater_prune.cc:74: tree pruning end, 1 roots, 14 extra nodes, 0 pruned nodes, max_depth=3\n",
      "[18:32:00] INFO: /home/conda/feedstock_root/build_artifacts/xgboost_1572314959925/work/src/tree/updater_prune.cc:74: tree pruning end, 1 roots, 8 extra nodes, 0 pruned nodes, max_depth=3\n",
      "[18:32:00] INFO: /home/conda/feedstock_root/build_artifacts/xgboost_1572314959925/work/src/tree/updater_prune.cc:74: tree pruning end, 1 roots, 12 extra nodes, 0 pruned nodes, max_depth=3\n",
      "[18:32:00] INFO: /home/conda/feedstock_root/build_artifacts/xgboost_1572314959925/work/src/tree/updater_prune.cc:74: tree pruning end, 1 roots, 10 extra nodes, 0 pruned nodes, max_depth=3\n",
      "[18:32:00] INFO: /home/conda/feedstock_root/build_artifacts/xgboost_1572314959925/work/src/tree/updater_prune.cc:74: tree pruning end, 1 roots, 10 extra nodes, 0 pruned nodes, max_depth=3\n",
      "[18:32:00] INFO: /home/conda/feedstock_root/build_artifacts/xgboost_1572314959925/work/src/tree/updater_prune.cc:74: tree pruning end, 1 roots, 10 extra nodes, 0 pruned nodes, max_depth=3\n",
      "[18:32:00] INFO: /home/conda/feedstock_root/build_artifacts/xgboost_1572314959925/work/src/tree/updater_prune.cc:74: tree pruning end, 1 roots, 10 extra nodes, 0 pruned nodes, max_depth=3\n",
      "[18:32:00] INFO: /home/conda/feedstock_root/build_artifacts/xgboost_1572314959925/work/src/tree/updater_prune.cc:74: tree pruning end, 1 roots, 10 extra nodes, 0 pruned nodes, max_depth=3\n",
      "[18:32:00] INFO: /home/conda/feedstock_root/build_artifacts/xgboost_1572314959925/work/src/tree/updater_prune.cc:74: tree pruning end, 1 roots, 14 extra nodes, 0 pruned nodes, max_depth=3\n",
      "[18:32:00] INFO: /home/conda/feedstock_root/build_artifacts/xgboost_1572314959925/work/src/tree/updater_prune.cc:74: tree pruning end, 1 roots, 14 extra nodes, 0 pruned nodes, max_depth=3\n",
      "[18:32:00] INFO: /home/conda/feedstock_root/build_artifacts/xgboost_1572314959925/work/src/tree/updater_prune.cc:74: tree pruning end, 1 roots, 12 extra nodes, 0 pruned nodes, max_depth=3\n",
      "[18:32:00] INFO: /home/conda/feedstock_root/build_artifacts/xgboost_1572314959925/work/src/tree/updater_prune.cc:74: tree pruning end, 1 roots, 14 extra nodes, 0 pruned nodes, max_depth=3\n",
      "[18:32:00] INFO: /home/conda/feedstock_root/build_artifacts/xgboost_1572314959925/work/src/tree/updater_prune.cc:74: tree pruning end, 1 roots, 12 extra nodes, 0 pruned nodes, max_depth=3\n",
      "[18:32:00] INFO: /home/conda/feedstock_root/build_artifacts/xgboost_1572314959925/work/src/tree/updater_prune.cc:74: tree pruning end, 1 roots, 10 extra nodes, 0 pruned nodes, max_depth=3\n",
      "[18:32:00] INFO: /home/conda/feedstock_root/build_artifacts/xgboost_1572314959925/work/src/tree/updater_prune.cc:74: tree pruning end, 1 roots, 14 extra nodes, 0 pruned nodes, max_depth=3\n",
      "[18:32:00] INFO: /home/conda/feedstock_root/build_artifacts/xgboost_1572314959925/work/src/tree/updater_prune.cc:74: tree pruning end, 1 roots, 12 extra nodes, 0 pruned nodes, max_depth=3\n",
      "[18:32:00] INFO: /home/conda/feedstock_root/build_artifacts/xgboost_1572314959925/work/src/tree/updater_prune.cc:74: tree pruning end, 1 roots, 10 extra nodes, 0 pruned nodes, max_depth=3\n",
      "[18:32:00] INFO: /home/conda/feedstock_root/build_artifacts/xgboost_1572314959925/work/src/tree/updater_prune.cc:74: tree pruning end, 1 roots, 14 extra nodes, 0 pruned nodes, max_depth=3\n",
      "[18:32:00] INFO: /home/conda/feedstock_root/build_artifacts/xgboost_1572314959925/work/src/tree/updater_prune.cc:74: tree pruning end, 1 roots, 10 extra nodes, 0 pruned nodes, max_depth=3\n",
      "[18:32:00] INFO: /home/conda/feedstock_root/build_artifacts/xgboost_1572314959925/work/src/tree/updater_prune.cc:74: tree pruning end, 1 roots, 12 extra nodes, 0 pruned nodes, max_depth=3\n",
      "[18:32:00] INFO: /home/conda/feedstock_root/build_artifacts/xgboost_1572314959925/work/src/tree/updater_prune.cc:74: tree pruning end, 1 roots, 10 extra nodes, 0 pruned nodes, max_depth=3\n",
      "[18:32:00] INFO: /home/conda/feedstock_root/build_artifacts/xgboost_1572314959925/work/src/tree/updater_prune.cc:74: tree pruning end, 1 roots, 10 extra nodes, 0 pruned nodes, max_depth=3\n",
      "[18:32:00] INFO: /home/conda/feedstock_root/build_artifacts/xgboost_1572314959925/work/src/tree/updater_prune.cc:74: tree pruning end, 1 roots, 10 extra nodes, 0 pruned nodes, max_depth=3\n",
      "[18:32:00] INFO: /home/conda/feedstock_root/build_artifacts/xgboost_1572314959925/work/src/tree/updater_prune.cc:74: tree pruning end, 1 roots, 14 extra nodes, 0 pruned nodes, max_depth=3\n",
      "[18:32:00] INFO: /home/conda/feedstock_root/build_artifacts/xgboost_1572314959925/work/src/tree/updater_prune.cc:74: tree pruning end, 1 roots, 14 extra nodes, 0 pruned nodes, max_depth=3\n",
      "[18:32:00] INFO: /home/conda/feedstock_root/build_artifacts/xgboost_1572314959925/work/src/tree/updater_prune.cc:74: tree pruning end, 1 roots, 10 extra nodes, 0 pruned nodes, max_depth=3\n",
      "[18:32:00] INFO: /home/conda/feedstock_root/build_artifacts/xgboost_1572314959925/work/src/tree/updater_prune.cc:74: tree pruning end, 1 roots, 12 extra nodes, 0 pruned nodes, max_depth=3\n",
      "[18:32:00] INFO: /home/conda/feedstock_root/build_artifacts/xgboost_1572314959925/work/src/tree/updater_prune.cc:74: tree pruning end, 1 roots, 10 extra nodes, 0 pruned nodes, max_depth=3\n",
      "[18:32:00] INFO: /home/conda/feedstock_root/build_artifacts/xgboost_1572314959925/work/src/tree/updater_prune.cc:74: tree pruning end, 1 roots, 14 extra nodes, 0 pruned nodes, max_depth=3\n",
      "[18:32:00] INFO: /home/conda/feedstock_root/build_artifacts/xgboost_1572314959925/work/src/tree/updater_prune.cc:74: tree pruning end, 1 roots, 12 extra nodes, 0 pruned nodes, max_depth=3\n",
      "[18:32:00] INFO: /home/conda/feedstock_root/build_artifacts/xgboost_1572314959925/work/src/tree/updater_prune.cc:74: tree pruning end, 1 roots, 14 extra nodes, 0 pruned nodes, max_depth=3\n",
      "[18:32:00] INFO: /home/conda/feedstock_root/build_artifacts/xgboost_1572314959925/work/src/tree/updater_prune.cc:74: tree pruning end, 1 roots, 12 extra nodes, 0 pruned nodes, max_depth=3\n",
      "[18:32:00] INFO: /home/conda/feedstock_root/build_artifacts/xgboost_1572314959925/work/src/tree/updater_prune.cc:74: tree pruning end, 1 roots, 8 extra nodes, 0 pruned nodes, max_depth=3\n",
      "[18:32:00] INFO: /home/conda/feedstock_root/build_artifacts/xgboost_1572314959925/work/src/tree/updater_prune.cc:74: tree pruning end, 1 roots, 14 extra nodes, 0 pruned nodes, max_depth=3\n",
      "[18:32:00] INFO: /home/conda/feedstock_root/build_artifacts/xgboost_1572314959925/work/src/tree/updater_prune.cc:74: tree pruning end, 1 roots, 14 extra nodes, 0 pruned nodes, max_depth=3\n",
      "[18:32:00] INFO: /home/conda/feedstock_root/build_artifacts/xgboost_1572314959925/work/src/tree/updater_prune.cc:74: tree pruning end, 1 roots, 12 extra nodes, 0 pruned nodes, max_depth=3\n",
      "[18:32:00] INFO: /home/conda/feedstock_root/build_artifacts/xgboost_1572314959925/work/src/tree/updater_prune.cc:74: tree pruning end, 1 roots, 14 extra nodes, 0 pruned nodes, max_depth=3\n",
      "[18:32:01] INFO: /home/conda/feedstock_root/build_artifacts/xgboost_1572314959925/work/src/tree/updater_prune.cc:74: tree pruning end, 1 roots, 12 extra nodes, 0 pruned nodes, max_depth=3\n",
      "[18:32:01] INFO: /home/conda/feedstock_root/build_artifacts/xgboost_1572314959925/work/src/tree/updater_prune.cc:74: tree pruning end, 1 roots, 12 extra nodes, 0 pruned nodes, max_depth=3\n"
     ]
    }
   ],
   "source": [
    "xgb_clf_boost = xgb_clf.fit(X_train, y_train)"
   ]
  },
  {
   "cell_type": "code",
   "execution_count": 423,
   "metadata": {},
   "outputs": [],
   "source": [
    "y_pred_xgb_clf = xgb_clf_boost.predict(X_test)"
   ]
  },
  {
   "cell_type": "code",
   "execution_count": 424,
   "metadata": {},
   "outputs": [
    {
     "data": {
      "text/plain": [
       "array([[1070,   61],\n",
       "       [ 151,  415]])"
      ]
     },
     "execution_count": 424,
     "metadata": {},
     "output_type": "execute_result"
    }
   ],
   "source": [
    "confusion_matrix(y_test, y_pred_xgb_clf)"
   ]
  },
  {
   "cell_type": "code",
   "execution_count": 360,
   "metadata": {},
   "outputs": [],
   "source": [
    "xgb_clf_boost.save_model('xgb_clf_boost.model')"
   ]
  },
  {
   "cell_type": "code",
   "execution_count": 369,
   "metadata": {},
   "outputs": [],
   "source": [
    "#xgb_clf_boost.save_model?"
   ]
  },
  {
   "cell_type": "code",
   "execution_count": 374,
   "metadata": {},
   "outputs": [],
   "source": [
    "#xgb_clf_boost."
   ]
  },
  {
   "cell_type": "code",
   "execution_count": 364,
   "metadata": {},
   "outputs": [],
   "source": [
    "import xgboost"
   ]
  },
  {
   "cell_type": "code",
   "execution_count": 365,
   "metadata": {},
   "outputs": [],
   "source": [
    "xgb_clf_booster = xgboost.Booster()"
   ]
  },
  {
   "cell_type": "code",
   "execution_count": 366,
   "metadata": {},
   "outputs": [],
   "source": [
    "xgb_clf_booster.load_model('xgb_clf_boost.model')"
   ]
  },
  {
   "cell_type": "code",
   "execution_count": 370,
   "metadata": {},
   "outputs": [],
   "source": [
    "#y_pred_xgb_clf = xgb_clf_booster.predict(X_test)"
   ]
  },
  {
   "cell_type": "code",
   "execution_count": 371,
   "metadata": {},
   "outputs": [],
   "source": [
    "#xgboost."
   ]
  },
  {
   "cell_type": "code",
   "execution_count": 372,
   "metadata": {},
   "outputs": [],
   "source": [
    "import pickle"
   ]
  },
  {
   "cell_type": "code",
   "execution_count": 425,
   "metadata": {},
   "outputs": [],
   "source": [
    "xgb_file = open('xgb_clf.pkl', 'wb')"
   ]
  },
  {
   "cell_type": "code",
   "execution_count": 426,
   "metadata": {},
   "outputs": [],
   "source": [
    "pickle.dump(xgb_clf_boost, xgb_file)"
   ]
  },
  {
   "cell_type": "code",
   "execution_count": 427,
   "metadata": {},
   "outputs": [],
   "source": [
    "xgb_file.flush()"
   ]
  },
  {
   "cell_type": "code",
   "execution_count": 388,
   "metadata": {},
   "outputs": [],
   "source": [
    "xgb_file.close()"
   ]
  },
  {
   "cell_type": "code",
   "execution_count": 428,
   "metadata": {},
   "outputs": [],
   "source": [
    "xgb_file = open('xgb_clf.pkl', 'rb')"
   ]
  },
  {
   "cell_type": "code",
   "execution_count": 429,
   "metadata": {},
   "outputs": [],
   "source": [
    "loaded_model = pickle.load(xgb_file)"
   ]
  },
  {
   "cell_type": "code",
   "execution_count": 430,
   "metadata": {},
   "outputs": [],
   "source": [
    "y_pred_load_xgb_clf = loaded_model.predict(X_test)"
   ]
  },
  {
   "cell_type": "code",
   "execution_count": 431,
   "metadata": {},
   "outputs": [
    {
     "data": {
      "text/plain": [
       "array([[1070,   61],\n",
       "       [ 151,  415]])"
      ]
     },
     "execution_count": 431,
     "metadata": {},
     "output_type": "execute_result"
    }
   ],
   "source": [
    "confusion_matrix(y_test, y_pred_load_xgb_clf)"
   ]
  },
  {
   "cell_type": "code",
   "execution_count": 432,
   "metadata": {},
   "outputs": [],
   "source": [
    "lgbm_clf = LGBMClassifier(\n",
    "    boosting_type='gbdt',\n",
    "    class_weight=None,\n",
    "    colsample_bytree=1.0,\n",
    "    importance_type='split',\n",
    "    learning_rate=0.1,\n",
    "    max_depth=-1,\n",
    "    min_child_samples=20,\n",
    "    min_child_weight=0.001,\n",
    "    min_split_gain=0.0,\n",
    "    n_estimators=50,\n",
    "    n_jobs=2,\n",
    "    num_leaves=31,\n",
    "    objective=None,\n",
    "    random_state=None,\n",
    "    reg_alpha=0.0,\n",
    "    reg_lambda=0.0,\n",
    "    silent=True,\n",
    "    subsample=1.0,\n",
    "    subsample_for_bin=200000,\n",
    "    subsample_freq=0,\n",
    "    eval_metric='auc',\n",
    "    eval_set=[(X_test,y_test)],\n",
    "    eval_names=['valid'],\n",
    "    verbose=100\n",
    ")"
   ]
  },
  {
   "cell_type": "code",
   "execution_count": 433,
   "metadata": {},
   "outputs": [],
   "source": [
    "lgbm_clf_model = lgbm_clf.fit(X_train, y_train)"
   ]
  },
  {
   "cell_type": "code",
   "execution_count": 434,
   "metadata": {},
   "outputs": [],
   "source": [
    "y_pred_lgbm_clf_model = lgbm_clf_model.predict(X_test)"
   ]
  },
  {
   "cell_type": "code",
   "execution_count": 435,
   "metadata": {},
   "outputs": [
    {
     "data": {
      "text/plain": [
       "array([[1066,   65],\n",
       "       [ 145,  421]])"
      ]
     },
     "execution_count": 435,
     "metadata": {},
     "output_type": "execute_result"
    }
   ],
   "source": [
    "confusion_matrix(y_test, y_pred_lgbm_clf_model)"
   ]
  },
  {
   "cell_type": "code",
   "execution_count": 436,
   "metadata": {},
   "outputs": [],
   "source": [
    "lgbm_pickle_file = open('lgbm_clf.pkl', 'wb')"
   ]
  },
  {
   "cell_type": "code",
   "execution_count": 437,
   "metadata": {},
   "outputs": [],
   "source": [
    "pickle.dump(lgbm_clf_model, lgbm_pickle_file)"
   ]
  },
  {
   "cell_type": "code",
   "execution_count": 438,
   "metadata": {},
   "outputs": [],
   "source": [
    "lgbm_pickle_file.flush()"
   ]
  },
  {
   "cell_type": "code",
   "execution_count": 439,
   "metadata": {},
   "outputs": [],
   "source": [
    "lgbm_pickle_file.close()"
   ]
  },
  {
   "cell_type": "code",
   "execution_count": 440,
   "metadata": {},
   "outputs": [],
   "source": [
    "lgbm_pickle_file = open('lgbm_clf.pkl', 'rb')"
   ]
  },
  {
   "cell_type": "code",
   "execution_count": 441,
   "metadata": {},
   "outputs": [],
   "source": [
    "loaded_lgbm_clf_model = pickle.load(lgbm_pickle_file)"
   ]
  },
  {
   "cell_type": "code",
   "execution_count": 442,
   "metadata": {},
   "outputs": [],
   "source": [
    "lgbm_pickle_file.close()"
   ]
  },
  {
   "cell_type": "code",
   "execution_count": 443,
   "metadata": {},
   "outputs": [],
   "source": [
    "y_pred_load_lgbm_clf = loaded_lgbm_clf_model.predict(X_test)"
   ]
  },
  {
   "cell_type": "code",
   "execution_count": 444,
   "metadata": {},
   "outputs": [
    {
     "data": {
      "text/plain": [
       "array([[1066,   65],\n",
       "       [ 145,  421]])"
      ]
     },
     "execution_count": 444,
     "metadata": {},
     "output_type": "execute_result"
    }
   ],
   "source": [
    "confusion_matrix(y_test, y_pred_load_lgbm_clf)"
   ]
  },
  {
   "cell_type": "code",
   "execution_count": 411,
   "metadata": {},
   "outputs": [],
   "source": [
    "np.sum"
   ]
  },
  {
   "cell_type": "code",
   "execution_count": 445,
   "metadata": {},
   "outputs": [
    {
     "data": {
      "text/html": [
       "<div>\n",
       "<style scoped>\n",
       "    .dataframe tbody tr th:only-of-type {\n",
       "        vertical-align: middle;\n",
       "    }\n",
       "\n",
       "    .dataframe tbody tr th {\n",
       "        vertical-align: top;\n",
       "    }\n",
       "\n",
       "    .dataframe thead th {\n",
       "        text-align: right;\n",
       "    }\n",
       "</style>\n",
       "<table border=\"1\" class=\"dataframe\">\n",
       "  <thead>\n",
       "    <tr style=\"text-align: right;\">\n",
       "      <th></th>\n",
       "      <th>capacity_bytes</th>\n",
       "      <th>smart_1_normalized</th>\n",
       "      <th>smart_1_raw</th>\n",
       "      <th>smart_3_normalized</th>\n",
       "      <th>smart_3_raw</th>\n",
       "      <th>smart_4_normalized</th>\n",
       "      <th>smart_4_raw</th>\n",
       "      <th>smart_5_normalized</th>\n",
       "      <th>smart_5_raw</th>\n",
       "      <th>smart_7_normalized</th>\n",
       "      <th>...</th>\n",
       "      <th>smart_198_normalized</th>\n",
       "      <th>smart_198_raw</th>\n",
       "      <th>smart_199_normalized</th>\n",
       "      <th>smart_199_raw</th>\n",
       "      <th>smart_240_normalized</th>\n",
       "      <th>smart_240_raw</th>\n",
       "      <th>smart_241_normalized</th>\n",
       "      <th>smart_241_raw</th>\n",
       "      <th>smart_242_normalized</th>\n",
       "      <th>smart_242_raw</th>\n",
       "    </tr>\n",
       "  </thead>\n",
       "  <tbody>\n",
       "    <tr>\n",
       "      <th>5089</th>\n",
       "      <td>4000787030016</td>\n",
       "      <td>113.0</td>\n",
       "      <td>57808064.0</td>\n",
       "      <td>94.0</td>\n",
       "      <td>0.0</td>\n",
       "      <td>100.0</td>\n",
       "      <td>6.0</td>\n",
       "      <td>100.0</td>\n",
       "      <td>0.0</td>\n",
       "      <td>88.0</td>\n",
       "      <td>...</td>\n",
       "      <td>100.0</td>\n",
       "      <td>0.0</td>\n",
       "      <td>200.0</td>\n",
       "      <td>0.0</td>\n",
       "      <td>100.0</td>\n",
       "      <td>3.462400e+04</td>\n",
       "      <td>100.0</td>\n",
       "      <td>5.347337e+10</td>\n",
       "      <td>100.0</td>\n",
       "      <td>1.524582e+11</td>\n",
       "    </tr>\n",
       "    <tr>\n",
       "      <th>5090</th>\n",
       "      <td>12000138625024</td>\n",
       "      <td>63.0</td>\n",
       "      <td>236845536.0</td>\n",
       "      <td>90.0</td>\n",
       "      <td>0.0</td>\n",
       "      <td>100.0</td>\n",
       "      <td>13.0</td>\n",
       "      <td>42.0</td>\n",
       "      <td>34368.0</td>\n",
       "      <td>81.0</td>\n",
       "      <td>...</td>\n",
       "      <td>100.0</td>\n",
       "      <td>8.0</td>\n",
       "      <td>200.0</td>\n",
       "      <td>0.0</td>\n",
       "      <td>100.0</td>\n",
       "      <td>1.540800e+04</td>\n",
       "      <td>100.0</td>\n",
       "      <td>6.844313e+10</td>\n",
       "      <td>100.0</td>\n",
       "      <td>1.571357e+11</td>\n",
       "    </tr>\n",
       "    <tr>\n",
       "      <th>5091</th>\n",
       "      <td>12000138625024</td>\n",
       "      <td>84.0</td>\n",
       "      <td>226688784.0</td>\n",
       "      <td>97.0</td>\n",
       "      <td>0.0</td>\n",
       "      <td>100.0</td>\n",
       "      <td>3.0</td>\n",
       "      <td>100.0</td>\n",
       "      <td>0.0</td>\n",
       "      <td>76.0</td>\n",
       "      <td>...</td>\n",
       "      <td>100.0</td>\n",
       "      <td>0.0</td>\n",
       "      <td>200.0</td>\n",
       "      <td>0.0</td>\n",
       "      <td>100.0</td>\n",
       "      <td>1.528000e+04</td>\n",
       "      <td>100.0</td>\n",
       "      <td>6.739927e+10</td>\n",
       "      <td>100.0</td>\n",
       "      <td>1.364408e+11</td>\n",
       "    </tr>\n",
       "    <tr>\n",
       "      <th>5092</th>\n",
       "      <td>8001563222016</td>\n",
       "      <td>100.0</td>\n",
       "      <td>0.0</td>\n",
       "      <td>100.0</td>\n",
       "      <td>0.0</td>\n",
       "      <td>100.0</td>\n",
       "      <td>2.0</td>\n",
       "      <td>100.0</td>\n",
       "      <td>0.0</td>\n",
       "      <td>100.0</td>\n",
       "      <td>...</td>\n",
       "      <td>100.0</td>\n",
       "      <td>0.0</td>\n",
       "      <td>200.0</td>\n",
       "      <td>0.0</td>\n",
       "      <td>100.0</td>\n",
       "      <td>2.462897e+11</td>\n",
       "      <td>100.0</td>\n",
       "      <td>4.957939e+10</td>\n",
       "      <td>100.0</td>\n",
       "      <td>1.182294e+11</td>\n",
       "    </tr>\n",
       "    <tr>\n",
       "      <th>5093</th>\n",
       "      <td>500107862016</td>\n",
       "      <td>100.0</td>\n",
       "      <td>0.0</td>\n",
       "      <td>100.0</td>\n",
       "      <td>1489.0</td>\n",
       "      <td>100.0</td>\n",
       "      <td>6.0</td>\n",
       "      <td>100.0</td>\n",
       "      <td>0.0</td>\n",
       "      <td>100.0</td>\n",
       "      <td>...</td>\n",
       "      <td>100.0</td>\n",
       "      <td>0.0</td>\n",
       "      <td>200.0</td>\n",
       "      <td>0.0</td>\n",
       "      <td>100.0</td>\n",
       "      <td>0.000000e+00</td>\n",
       "      <td>100.0</td>\n",
       "      <td>4.957939e+10</td>\n",
       "      <td>100.0</td>\n",
       "      <td>1.182294e+11</td>\n",
       "    </tr>\n",
       "  </tbody>\n",
       "</table>\n",
       "<p>5 rows × 43 columns</p>\n",
       "</div>"
      ],
      "text/plain": [
       "      capacity_bytes  smart_1_normalized  smart_1_raw  smart_3_normalized  \\\n",
       "5089   4000787030016               113.0   57808064.0                94.0   \n",
       "5090  12000138625024                63.0  236845536.0                90.0   \n",
       "5091  12000138625024                84.0  226688784.0                97.0   \n",
       "5092   8001563222016               100.0          0.0               100.0   \n",
       "5093    500107862016               100.0          0.0               100.0   \n",
       "\n",
       "      smart_3_raw  smart_4_normalized  smart_4_raw  smart_5_normalized  \\\n",
       "5089          0.0               100.0          6.0               100.0   \n",
       "5090          0.0               100.0         13.0                42.0   \n",
       "5091          0.0               100.0          3.0               100.0   \n",
       "5092          0.0               100.0          2.0               100.0   \n",
       "5093       1489.0               100.0          6.0               100.0   \n",
       "\n",
       "      smart_5_raw  smart_7_normalized  ...  smart_198_normalized  \\\n",
       "5089          0.0                88.0  ...                 100.0   \n",
       "5090      34368.0                81.0  ...                 100.0   \n",
       "5091          0.0                76.0  ...                 100.0   \n",
       "5092          0.0               100.0  ...                 100.0   \n",
       "5093          0.0               100.0  ...                 100.0   \n",
       "\n",
       "      smart_198_raw  smart_199_normalized  smart_199_raw  \\\n",
       "5089            0.0                 200.0            0.0   \n",
       "5090            8.0                 200.0            0.0   \n",
       "5091            0.0                 200.0            0.0   \n",
       "5092            0.0                 200.0            0.0   \n",
       "5093            0.0                 200.0            0.0   \n",
       "\n",
       "      smart_240_normalized  smart_240_raw  smart_241_normalized  \\\n",
       "5089                 100.0   3.462400e+04                 100.0   \n",
       "5090                 100.0   1.540800e+04                 100.0   \n",
       "5091                 100.0   1.528000e+04                 100.0   \n",
       "5092                 100.0   2.462897e+11                 100.0   \n",
       "5093                 100.0   0.000000e+00                 100.0   \n",
       "\n",
       "      smart_241_raw  smart_242_normalized  smart_242_raw  \n",
       "5089   5.347337e+10                 100.0   1.524582e+11  \n",
       "5090   6.844313e+10                 100.0   1.571357e+11  \n",
       "5091   6.739927e+10                 100.0   1.364408e+11  \n",
       "5092   4.957939e+10                 100.0   1.182294e+11  \n",
       "5093   4.957939e+10                 100.0   1.182294e+11  \n",
       "\n",
       "[5 rows x 43 columns]"
      ]
     },
     "execution_count": 445,
     "metadata": {},
     "output_type": "execute_result"
    }
   ],
   "source": [
    "X_test.head()"
   ]
  },
  {
   "cell_type": "code",
   "execution_count": 448,
   "metadata": {},
   "outputs": [],
   "source": []
  },
  {
   "cell_type": "code",
   "execution_count": 449,
   "metadata": {},
   "outputs": [],
   "source": [
    "a = np.array([1, 2, 3])"
   ]
  },
  {
   "cell_type": "code",
   "execution_count": 460,
   "metadata": {},
   "outputs": [
    {
     "data": {
      "text/plain": [
       "array([[1],\n",
       "       [2],\n",
       "       [3]])"
      ]
     },
     "execution_count": 460,
     "metadata": {},
     "output_type": "execute_result"
    }
   ],
   "source": [
    "a.reshape((3, 1))"
   ]
  },
  {
   "cell_type": "code",
   "execution_count": 462,
   "metadata": {},
   "outputs": [],
   "source": [
    "data_df.to_json?"
   ]
  },
  {
   "cell_type": "code",
   "execution_count": null,
   "metadata": {},
   "outputs": [],
   "source": []
  }
 ],
 "metadata": {
  "kernelspec": {
   "display_name": "Python 3",
   "language": "python",
   "name": "python3"
  },
  "language_info": {
   "codemirror_mode": {
    "name": "ipython",
    "version": 3
   },
   "file_extension": ".py",
   "mimetype": "text/x-python",
   "name": "python",
   "nbconvert_exporter": "python",
   "pygments_lexer": "ipython3",
   "version": "3.7.5"
  }
 },
 "nbformat": 4,
 "nbformat_minor": 4
}
